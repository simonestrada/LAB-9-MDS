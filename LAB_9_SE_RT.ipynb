{
  "cells": [
    {
      "cell_type": "markdown",
      "metadata": {
        "cell_id": "b5c0d2440b3e4995a794ded565213150",
        "deepnote_cell_type": "markdown",
        "id": "X2Z7TEliCxPR"
      },
      "source": [
        "<h1><center>Laboratorio 9: Optimización de modelos 💯</center></h1>\n",
        "\n",
        "<center><strong>MDS7202: Laboratorio de Programación Científica para Ciencia de Datos</strong></center>"
      ]
    },
    {
      "cell_type": "markdown",
      "metadata": {
        "cell_id": "bfb94b9656f145ad83e81b75d218cb70",
        "deepnote_cell_type": "markdown",
        "id": "8RfxApLECxPU"
      },
      "source": [
        "### Cuerpo Docente:\n",
        "\n",
        "- Profesor: Ignacio Meza, Gabriel Iturra\n",
        "- Auxiliar: Sebastián Tinoco\n",
        "- Ayudante: Arturo Lazcano, Angelo Muñoz"
      ]
    },
    {
      "cell_type": "markdown",
      "metadata": {
        "cell_id": "b1b537fdd27c43909a49d3476ce64d91",
        "deepnote_cell_type": "markdown",
        "id": "396jHZIzCxPV"
      },
      "source": [
        "### Equipo: SUPER IMPORTANTE - notebooks sin nombre no serán revisados\n",
        "\n",
        "- Nombre de alumno 1: Ricardo Torres\n",
        "- Nombre de alumno 2: Simon Estrada\n"
      ]
    },
    {
      "cell_type": "markdown",
      "metadata": {
        "cell_id": "b7dbdd30ab544cb8a8afe00648a586ae",
        "deepnote_cell_type": "markdown",
        "id": "wy7qsKVwCxPV"
      },
      "source": [
        "## Temas a tratar\n",
        "\n",
        "- Predicción de demanda usando `xgboost`\n",
        "- Búsqueda del modelo óptimo de clasificación usando `optuna`\n",
        "- Uso de pipelines.\n",
        "\n",
        "## Reglas:\n",
        "\n",
        "- **Grupos de 2 personas**\n",
        "- Cualquier duda fuera del horario de clases al foro. Mensajes al equipo docente serán respondidos por este medio.\n",
        "- Prohibidas las copias.\n",
        "- Pueden usar cualquer material del curso que estimen conveniente.\n",
        "\n",
        "### Objetivos principales del laboratorio\n",
        "\n",
        "- Optimizar modelos usando `optuna`\n",
        "- Recurrir a técnicas de *prunning*\n",
        "- Forzar el aprendizaje de relaciones entre variables mediante *constraints*\n",
        "- Fijar un pipeline con un modelo base que luego se irá optimizando.\n",
        "\n",
        "El laboratorio deberá ser desarrollado sin el uso indiscriminado de iteradores nativos de python (aka \"for\", \"while\"). La idea es que aprendan a exprimir al máximo las funciones optimizadas que nos entrega `pandas`, las cuales vale mencionar, son bastante más eficientes que los iteradores nativos sobre DataFrames."
      ]
    },
    {
      "cell_type": "markdown",
      "metadata": {
        "cell_id": "f38c8342f5164aa992a97488dd5590bf",
        "deepnote_cell_type": "markdown",
        "id": "7s7_4NO1CxPW"
      },
      "source": [
        "### **Link de repositorio de GitHub:** `https://github.com/RicardoTorresP/Laboratorio-9`"
      ]
    },
    {
      "cell_type": "markdown",
      "metadata": {
        "cell_id": "f1c73babb7f74af588a4fa6ae14829e0",
        "deepnote_cell_type": "markdown",
        "id": "0nTmUqqMCxPW"
      },
      "source": [
        "# Importamos librerias útiles"
      ]
    },
    {
      "cell_type": "code",
      "metadata": {
        "source_hash": null,
        "execution_start": 1699544354044,
        "execution_millis": 4957,
        "deepnote_to_be_reexecuted": false,
        "cell_id": "51afe4d2df42442b9e5402ffece60ead",
        "deepnote_cell_type": "code",
        "id": "zwLhJ2UCCxPW"
      },
      "source": [
        "!pip install -qq xgboost optuna"
      ],
      "execution_count": null,
      "outputs": []
    },
    {
      "cell_type": "markdown",
      "metadata": {
        "cell_id": "44d227389a734ac59189c5e0005bc68a",
        "deepnote_cell_type": "markdown",
        "id": "yCImYudgCxPX"
      },
      "source": [
        "# 1. El emprendimiento de Fiu\n",
        "\n",
        "Tras liderar de manera exitosa la implementación de un proyecto de ciencia de datos para caracterizar los datos generados en Santiago 2023, el misterioso corpóreo **Fiu** se anima y decide levantar su propio negocio de consultoría en machine learning. Tras varias e intensas negociaciones, Fiu logra encontrar su *primera chamba*: predecir la demanda (cantidad de venta) de una famosa productora de bebidas de calibre mundial. Como usted tuvo un rendimiento sobresaliente en el proyecto de caracterización de datos, Fiu lo contrata como *data scientist* de su emprendimiento.\n",
        "\n",
        "Para este laboratorio deben trabajar con los datos `sales.csv` subidos a u-cursos, el cual contiene una muestra de ventas de la empresa para diferentes productos en un determinado tiempo.\n",
        "\n",
        "Para comenzar, cargue el dataset señalado y visualice a través de un `.head` los atributos que posee el dataset.\n",
        "\n",
        "<i><p align=\"center\">Fiu siendo felicitado por su excelente desempeño en el proyecto de caracterización de datos</p></i>\n",
        "<p align=\"center\">\n",
        "  <img src=\"https://media-front.elmostrador.cl/2023/09/A_UNO_1506411_2440e.jpg\">\n",
        "</p>"
      ]
    },
    {
      "cell_type": "code",
      "source": [
        "# Si usted está utilizando Colabolatory le puede ser útil este código para cargar los archivos.\n",
        "try:\n",
        "    from google.colab import drive\n",
        "    drive.mount(\"/content/drive\")\n",
        "    path = '/content/drive/MyDrive/Lab_09/Lab_09'\n",
        "except:\n",
        "    print('Ignorando conexión drive-colab')"
      ],
      "metadata": {
        "colab": {
          "base_uri": "https://localhost:8080/"
        },
        "id": "TZHt4xFRC02k",
        "outputId": "33cd50b8-c39f-4aca-8771-2ea4a0277722"
      },
      "execution_count": null,
      "outputs": [
        {
          "output_type": "stream",
          "name": "stdout",
          "text": [
            "Drive already mounted at /content/drive; to attempt to forcibly remount, call drive.mount(\"/content/drive\", force_remount=True).\n"
          ]
        }
      ]
    },
    {
      "cell_type": "code",
      "metadata": {
        "source_hash": null,
        "execution_start": 1699544359006,
        "execution_millis": 92,
        "deepnote_to_be_reexecuted": false,
        "cell_id": "2f9c82d204b14515ad27ae07e0b77702",
        "deepnote_cell_type": "code",
        "colab": {
          "base_uri": "https://localhost:8080/",
          "height": 206
        },
        "id": "6ocTPNUlCxPY",
        "outputId": "1a63746a-d608-4676-8fb9-ccdb916fec01"
      },
      "source": [
        "import pandas as pd\n",
        "import numpy as np\n",
        "from datetime import datetime\n",
        "\n",
        "df = pd.read_csv(path+'/sales.csv')\n",
        "df['date'] = pd.to_datetime(df['date'])\n",
        "\n",
        "df.head()"
      ],
      "execution_count": null,
      "outputs": [
        {
          "output_type": "execute_result",
          "data": {
            "text/plain": [
              "   id       date    city       lat      long     pop    shop        brand  \\\n",
              "0   0 2012-01-31  Athens  37.97945  23.71622  672130  shop_1  kinder-cola   \n",
              "1   1 2012-01-31  Athens  37.97945  23.71622  672130  shop_1  kinder-cola   \n",
              "2   2 2012-01-31  Athens  37.97945  23.71622  672130  shop_1  kinder-cola   \n",
              "3   3 2012-01-31  Athens  37.97945  23.71622  672130  shop_1   adult-cola   \n",
              "4   4 2012-01-31  Athens  37.97945  23.71622  672130  shop_1   adult-cola   \n",
              "\n",
              "  container capacity  price  quantity  \n",
              "0     glass    500ml   0.96     13280  \n",
              "1   plastic    1.5lt   2.86      6727  \n",
              "2       can    330ml   0.87      9848  \n",
              "3     glass    500ml   1.00     20050  \n",
              "4       can    330ml   0.39     25696  "
            ],
            "text/html": [
              "\n",
              "  <div id=\"df-2adae68e-d98b-4bda-a137-94f8611e8927\" class=\"colab-df-container\">\n",
              "    <div>\n",
              "<style scoped>\n",
              "    .dataframe tbody tr th:only-of-type {\n",
              "        vertical-align: middle;\n",
              "    }\n",
              "\n",
              "    .dataframe tbody tr th {\n",
              "        vertical-align: top;\n",
              "    }\n",
              "\n",
              "    .dataframe thead th {\n",
              "        text-align: right;\n",
              "    }\n",
              "</style>\n",
              "<table border=\"1\" class=\"dataframe\">\n",
              "  <thead>\n",
              "    <tr style=\"text-align: right;\">\n",
              "      <th></th>\n",
              "      <th>id</th>\n",
              "      <th>date</th>\n",
              "      <th>city</th>\n",
              "      <th>lat</th>\n",
              "      <th>long</th>\n",
              "      <th>pop</th>\n",
              "      <th>shop</th>\n",
              "      <th>brand</th>\n",
              "      <th>container</th>\n",
              "      <th>capacity</th>\n",
              "      <th>price</th>\n",
              "      <th>quantity</th>\n",
              "    </tr>\n",
              "  </thead>\n",
              "  <tbody>\n",
              "    <tr>\n",
              "      <th>0</th>\n",
              "      <td>0</td>\n",
              "      <td>2012-01-31</td>\n",
              "      <td>Athens</td>\n",
              "      <td>37.97945</td>\n",
              "      <td>23.71622</td>\n",
              "      <td>672130</td>\n",
              "      <td>shop_1</td>\n",
              "      <td>kinder-cola</td>\n",
              "      <td>glass</td>\n",
              "      <td>500ml</td>\n",
              "      <td>0.96</td>\n",
              "      <td>13280</td>\n",
              "    </tr>\n",
              "    <tr>\n",
              "      <th>1</th>\n",
              "      <td>1</td>\n",
              "      <td>2012-01-31</td>\n",
              "      <td>Athens</td>\n",
              "      <td>37.97945</td>\n",
              "      <td>23.71622</td>\n",
              "      <td>672130</td>\n",
              "      <td>shop_1</td>\n",
              "      <td>kinder-cola</td>\n",
              "      <td>plastic</td>\n",
              "      <td>1.5lt</td>\n",
              "      <td>2.86</td>\n",
              "      <td>6727</td>\n",
              "    </tr>\n",
              "    <tr>\n",
              "      <th>2</th>\n",
              "      <td>2</td>\n",
              "      <td>2012-01-31</td>\n",
              "      <td>Athens</td>\n",
              "      <td>37.97945</td>\n",
              "      <td>23.71622</td>\n",
              "      <td>672130</td>\n",
              "      <td>shop_1</td>\n",
              "      <td>kinder-cola</td>\n",
              "      <td>can</td>\n",
              "      <td>330ml</td>\n",
              "      <td>0.87</td>\n",
              "      <td>9848</td>\n",
              "    </tr>\n",
              "    <tr>\n",
              "      <th>3</th>\n",
              "      <td>3</td>\n",
              "      <td>2012-01-31</td>\n",
              "      <td>Athens</td>\n",
              "      <td>37.97945</td>\n",
              "      <td>23.71622</td>\n",
              "      <td>672130</td>\n",
              "      <td>shop_1</td>\n",
              "      <td>adult-cola</td>\n",
              "      <td>glass</td>\n",
              "      <td>500ml</td>\n",
              "      <td>1.00</td>\n",
              "      <td>20050</td>\n",
              "    </tr>\n",
              "    <tr>\n",
              "      <th>4</th>\n",
              "      <td>4</td>\n",
              "      <td>2012-01-31</td>\n",
              "      <td>Athens</td>\n",
              "      <td>37.97945</td>\n",
              "      <td>23.71622</td>\n",
              "      <td>672130</td>\n",
              "      <td>shop_1</td>\n",
              "      <td>adult-cola</td>\n",
              "      <td>can</td>\n",
              "      <td>330ml</td>\n",
              "      <td>0.39</td>\n",
              "      <td>25696</td>\n",
              "    </tr>\n",
              "  </tbody>\n",
              "</table>\n",
              "</div>\n",
              "    <div class=\"colab-df-buttons\">\n",
              "\n",
              "  <div class=\"colab-df-container\">\n",
              "    <button class=\"colab-df-convert\" onclick=\"convertToInteractive('df-2adae68e-d98b-4bda-a137-94f8611e8927')\"\n",
              "            title=\"Convert this dataframe to an interactive table.\"\n",
              "            style=\"display:none;\">\n",
              "\n",
              "  <svg xmlns=\"http://www.w3.org/2000/svg\" height=\"24px\" viewBox=\"0 -960 960 960\">\n",
              "    <path d=\"M120-120v-720h720v720H120Zm60-500h600v-160H180v160Zm220 220h160v-160H400v160Zm0 220h160v-160H400v160ZM180-400h160v-160H180v160Zm440 0h160v-160H620v160ZM180-180h160v-160H180v160Zm440 0h160v-160H620v160Z\"/>\n",
              "  </svg>\n",
              "    </button>\n",
              "\n",
              "  <style>\n",
              "    .colab-df-container {\n",
              "      display:flex;\n",
              "      gap: 12px;\n",
              "    }\n",
              "\n",
              "    .colab-df-convert {\n",
              "      background-color: #E8F0FE;\n",
              "      border: none;\n",
              "      border-radius: 50%;\n",
              "      cursor: pointer;\n",
              "      display: none;\n",
              "      fill: #1967D2;\n",
              "      height: 32px;\n",
              "      padding: 0 0 0 0;\n",
              "      width: 32px;\n",
              "    }\n",
              "\n",
              "    .colab-df-convert:hover {\n",
              "      background-color: #E2EBFA;\n",
              "      box-shadow: 0px 1px 2px rgba(60, 64, 67, 0.3), 0px 1px 3px 1px rgba(60, 64, 67, 0.15);\n",
              "      fill: #174EA6;\n",
              "    }\n",
              "\n",
              "    .colab-df-buttons div {\n",
              "      margin-bottom: 4px;\n",
              "    }\n",
              "\n",
              "    [theme=dark] .colab-df-convert {\n",
              "      background-color: #3B4455;\n",
              "      fill: #D2E3FC;\n",
              "    }\n",
              "\n",
              "    [theme=dark] .colab-df-convert:hover {\n",
              "      background-color: #434B5C;\n",
              "      box-shadow: 0px 1px 3px 1px rgba(0, 0, 0, 0.15);\n",
              "      filter: drop-shadow(0px 1px 2px rgba(0, 0, 0, 0.3));\n",
              "      fill: #FFFFFF;\n",
              "    }\n",
              "  </style>\n",
              "\n",
              "    <script>\n",
              "      const buttonEl =\n",
              "        document.querySelector('#df-2adae68e-d98b-4bda-a137-94f8611e8927 button.colab-df-convert');\n",
              "      buttonEl.style.display =\n",
              "        google.colab.kernel.accessAllowed ? 'block' : 'none';\n",
              "\n",
              "      async function convertToInteractive(key) {\n",
              "        const element = document.querySelector('#df-2adae68e-d98b-4bda-a137-94f8611e8927');\n",
              "        const dataTable =\n",
              "          await google.colab.kernel.invokeFunction('convertToInteractive',\n",
              "                                                    [key], {});\n",
              "        if (!dataTable) return;\n",
              "\n",
              "        const docLinkHtml = 'Like what you see? Visit the ' +\n",
              "          '<a target=\"_blank\" href=https://colab.research.google.com/notebooks/data_table.ipynb>data table notebook</a>'\n",
              "          + ' to learn more about interactive tables.';\n",
              "        element.innerHTML = '';\n",
              "        dataTable['output_type'] = 'display_data';\n",
              "        await google.colab.output.renderOutput(dataTable, element);\n",
              "        const docLink = document.createElement('div');\n",
              "        docLink.innerHTML = docLinkHtml;\n",
              "        element.appendChild(docLink);\n",
              "      }\n",
              "    </script>\n",
              "  </div>\n",
              "\n",
              "\n",
              "<div id=\"df-ae487589-249b-4549-90c3-a4a3da5ffb34\">\n",
              "  <button class=\"colab-df-quickchart\" onclick=\"quickchart('df-ae487589-249b-4549-90c3-a4a3da5ffb34')\"\n",
              "            title=\"Suggest charts\"\n",
              "            style=\"display:none;\">\n",
              "\n",
              "<svg xmlns=\"http://www.w3.org/2000/svg\" height=\"24px\"viewBox=\"0 0 24 24\"\n",
              "     width=\"24px\">\n",
              "    <g>\n",
              "        <path d=\"M19 3H5c-1.1 0-2 .9-2 2v14c0 1.1.9 2 2 2h14c1.1 0 2-.9 2-2V5c0-1.1-.9-2-2-2zM9 17H7v-7h2v7zm4 0h-2V7h2v10zm4 0h-2v-4h2v4z\"/>\n",
              "    </g>\n",
              "</svg>\n",
              "  </button>\n",
              "\n",
              "<style>\n",
              "  .colab-df-quickchart {\n",
              "      --bg-color: #E8F0FE;\n",
              "      --fill-color: #1967D2;\n",
              "      --hover-bg-color: #E2EBFA;\n",
              "      --hover-fill-color: #174EA6;\n",
              "      --disabled-fill-color: #AAA;\n",
              "      --disabled-bg-color: #DDD;\n",
              "  }\n",
              "\n",
              "  [theme=dark] .colab-df-quickchart {\n",
              "      --bg-color: #3B4455;\n",
              "      --fill-color: #D2E3FC;\n",
              "      --hover-bg-color: #434B5C;\n",
              "      --hover-fill-color: #FFFFFF;\n",
              "      --disabled-bg-color: #3B4455;\n",
              "      --disabled-fill-color: #666;\n",
              "  }\n",
              "\n",
              "  .colab-df-quickchart {\n",
              "    background-color: var(--bg-color);\n",
              "    border: none;\n",
              "    border-radius: 50%;\n",
              "    cursor: pointer;\n",
              "    display: none;\n",
              "    fill: var(--fill-color);\n",
              "    height: 32px;\n",
              "    padding: 0;\n",
              "    width: 32px;\n",
              "  }\n",
              "\n",
              "  .colab-df-quickchart:hover {\n",
              "    background-color: var(--hover-bg-color);\n",
              "    box-shadow: 0 1px 2px rgba(60, 64, 67, 0.3), 0 1px 3px 1px rgba(60, 64, 67, 0.15);\n",
              "    fill: var(--button-hover-fill-color);\n",
              "  }\n",
              "\n",
              "  .colab-df-quickchart-complete:disabled,\n",
              "  .colab-df-quickchart-complete:disabled:hover {\n",
              "    background-color: var(--disabled-bg-color);\n",
              "    fill: var(--disabled-fill-color);\n",
              "    box-shadow: none;\n",
              "  }\n",
              "\n",
              "  .colab-df-spinner {\n",
              "    border: 2px solid var(--fill-color);\n",
              "    border-color: transparent;\n",
              "    border-bottom-color: var(--fill-color);\n",
              "    animation:\n",
              "      spin 1s steps(1) infinite;\n",
              "  }\n",
              "\n",
              "  @keyframes spin {\n",
              "    0% {\n",
              "      border-color: transparent;\n",
              "      border-bottom-color: var(--fill-color);\n",
              "      border-left-color: var(--fill-color);\n",
              "    }\n",
              "    20% {\n",
              "      border-color: transparent;\n",
              "      border-left-color: var(--fill-color);\n",
              "      border-top-color: var(--fill-color);\n",
              "    }\n",
              "    30% {\n",
              "      border-color: transparent;\n",
              "      border-left-color: var(--fill-color);\n",
              "      border-top-color: var(--fill-color);\n",
              "      border-right-color: var(--fill-color);\n",
              "    }\n",
              "    40% {\n",
              "      border-color: transparent;\n",
              "      border-right-color: var(--fill-color);\n",
              "      border-top-color: var(--fill-color);\n",
              "    }\n",
              "    60% {\n",
              "      border-color: transparent;\n",
              "      border-right-color: var(--fill-color);\n",
              "    }\n",
              "    80% {\n",
              "      border-color: transparent;\n",
              "      border-right-color: var(--fill-color);\n",
              "      border-bottom-color: var(--fill-color);\n",
              "    }\n",
              "    90% {\n",
              "      border-color: transparent;\n",
              "      border-bottom-color: var(--fill-color);\n",
              "    }\n",
              "  }\n",
              "</style>\n",
              "\n",
              "  <script>\n",
              "    async function quickchart(key) {\n",
              "      const quickchartButtonEl =\n",
              "        document.querySelector('#' + key + ' button');\n",
              "      quickchartButtonEl.disabled = true;  // To prevent multiple clicks.\n",
              "      quickchartButtonEl.classList.add('colab-df-spinner');\n",
              "      try {\n",
              "        const charts = await google.colab.kernel.invokeFunction(\n",
              "            'suggestCharts', [key], {});\n",
              "      } catch (error) {\n",
              "        console.error('Error during call to suggestCharts:', error);\n",
              "      }\n",
              "      quickchartButtonEl.classList.remove('colab-df-spinner');\n",
              "      quickchartButtonEl.classList.add('colab-df-quickchart-complete');\n",
              "    }\n",
              "    (() => {\n",
              "      let quickchartButtonEl =\n",
              "        document.querySelector('#df-ae487589-249b-4549-90c3-a4a3da5ffb34 button');\n",
              "      quickchartButtonEl.style.display =\n",
              "        google.colab.kernel.accessAllowed ? 'block' : 'none';\n",
              "    })();\n",
              "  </script>\n",
              "</div>\n",
              "    </div>\n",
              "  </div>\n"
            ]
          },
          "metadata": {},
          "execution_count": 166
        }
      ]
    },
    {
      "cell_type": "markdown",
      "metadata": {
        "cell_id": "b50db6f2cb804932ae3f9e5748a6ea61",
        "deepnote_cell_type": "markdown",
        "id": "-B1-olhDCxPZ"
      },
      "source": [
        "## 1.1 Generando un Baseline (0.5 puntos)\n",
        "\n",
        "<p align=\"center\">\n",
        "  <img src=\"https://media.tenor.com/O-lan6TkadUAAAAC/what-i-wnna-do-after-a-baseline.gif\">\n",
        "</p>\n",
        "\n",
        "Antes de entrenar un algoritmo, usted recuerda los apuntes de su magíster en ciencia de datos y recuerda que debe seguir una serie de *buenas prácticas* para entrenar correcta y debidamente su modelo. Después de un par de vueltas, llega a las siguientes tareas:\n",
        "\n",
        "1. Separe los datos en conjuntos de train (70%), validation (20%) y test (10%). Fije una semilla para controlar la aleatoriedad.\n",
        "2. Implemente un `FunctionTransformer` para extraer el día, mes y año de la variable `date`. Guarde estas variables en el formato categorical de pandas.\n",
        "3. Implemente un `ColumnTransformer` para procesar de manera adecuada los datos numéricos y categóricos. Use `OneHotEncoder` para las variables categóricas.\n",
        "4. Guarde los pasos anteriores en un `Pipeline`, dejando como último paso el regresor `DummyRegressor` para generar predicciones en base a promedios.\n",
        "5. Entrene el pipeline anterior y reporte la métrica `mean_absolute_error` sobre los datos de validación. ¿Cómo se interpreta esta métrica para el contexto del negocio?\n",
        "6. Finalmente, vuelva a entrenar el `Pipeline` pero esta vez usando `XGBRegressor` como modelo **utilizando los parámetros por default**. ¿Cómo cambia el MAE al implementar este algoritmo? ¿Es mejor o peor que el `DummyRegressor`?\n",
        "7. Guarde ambos modelos en un archivo .pkl (uno cada uno)"
      ]
    },
    {
      "cell_type": "code",
      "source": [
        "import pandas as pd\n",
        "from sklearn.model_selection import train_test_split\n",
        "from sklearn.compose import ColumnTransformer\n",
        "from sklearn.pipeline import Pipeline\n",
        "from sklearn.preprocessing import OneHotEncoder, StandardScaler\n",
        "from sklearn.dummy import DummyRegressor\n",
        "from sklearn.metrics import mean_absolute_error\n",
        "from xgboost import XGBRegressor\n",
        "from sklearn.preprocessing import FunctionTransformer"
      ],
      "metadata": {
        "id": "CjXw7CRjIGqL"
      },
      "execution_count": null,
      "outputs": []
    },
    {
      "cell_type": "code",
      "source": [
        "X_train, X_temp, y_train, y_temp = train_test_split(df.drop('quantity', axis=1), df['quantity'], test_size=0.3, random_state=42)\n",
        "X_val, X_test, y_val, y_test = train_test_split(X_temp, y_temp, test_size=0.33, random_state=42)"
      ],
      "metadata": {
        "id": "ZFis4c2pWakU"
      },
      "execution_count": null,
      "outputs": []
    },
    {
      "cell_type": "code",
      "source": [
        "def extract_date_info(df):\n",
        "    df['date'] = pd.to_datetime(df['date'])\n",
        "    df['day'] = df['date'].dt.day.astype('category')\n",
        "    df['month'] = df['date'].dt.month.astype('category')\n",
        "    df['year'] = df['date'].dt.year.astype('category')\n",
        "    return df.drop('date', axis=1)\n",
        "date_transformer = FunctionTransformer(extract_date_info, validate=False)"
      ],
      "metadata": {
        "id": "LFl1_qXyIcde"
      },
      "execution_count": null,
      "outputs": []
    },
    {
      "cell_type": "markdown",
      "source": [
        "¿Cómo se interpreta esta métrica para el contexto del negocio?\n",
        "\n",
        "Respuesta:\n",
        "\n",
        "El MAE, o Error Absoluto Medio, es una métrica fundamental en el contexto empresarial que cuantifica la discrepancia promedio entre las predicciones de un modelo y los valores reales. En términos sencillos, representa cuánto se desvían, en promedio, las estimaciones del modelo de las cifras reales.\n",
        "\n",
        "Un MAE más bajo es indicativo de un rendimiento más preciso del modelo, ya que implica que las predicciones tienen una desviación menor con respecto a los datos reales. Por lo tanto, al minimizar el MAE, se busca optimizar la capacidad del modelo para realizar predicciones precisas. Esto es crucial en entornos empresariales donde las estimaciones precisas son esenciales para la toma de decisiones estratégicas, como la gestión de inventarios, la planificación de la producción o la optimización de campañas de marketing."
      ],
      "metadata": {
        "id": "eg96tKDFLt5Q"
      }
    },
    {
      "cell_type": "code",
      "source": [
        "numeric_features = ['lat', 'long', 'pop', 'price']\n",
        "categorical_features = [ 'city', 'shop', 'brand', 'container','day','month','year','capacity']\n",
        "\n",
        "preprocessor = ColumnTransformer(\n",
        "    transformers=[\n",
        "        ('num', StandardScaler(), numeric_features),\n",
        "        ('cat', OneHotEncoder(), categorical_features)\n",
        "    ])"
      ],
      "metadata": {
        "id": "SCLR_p5SX_Id"
      },
      "execution_count": null,
      "outputs": []
    },
    {
      "cell_type": "code",
      "source": [
        "dummy_model = DummyRegressor(strategy='mean')\n",
        "xgb_model = XGBRegressor()\n",
        "\n",
        "pipeline_dummy2 = Pipeline([\n",
        "    ('date_transform', date_transformer),\n",
        "    ('preprocessor', preprocessor),\n",
        "    ('regressor', dummy_model)\n",
        "])\n",
        "\n",
        "pipeline_xgb2 = Pipeline([\n",
        "    ('date_transform', date_transformer),\n",
        "    ('preprocessor', preprocessor),\n",
        "    ('regressor', xgb_model)\n",
        "])"
      ],
      "metadata": {
        "id": "WCi-ipYOX5pP"
      },
      "execution_count": null,
      "outputs": []
    },
    {
      "cell_type": "code",
      "source": [
        "# Fit and evaluate the DummyRegressor pipeline\n",
        "pipeline_dummy2.fit(X_train, y_train)\n",
        "y_val_pred_dummy2 = pipeline_dummy2.predict(X_val)\n",
        "mae_dummy2 = mean_absolute_error(y_val, y_val_pred_dummy2)\n",
        "print(f'MAE for DummyRegressor: {mae_dummy2}')\n",
        "\n",
        "joblib.dump(pipeline_dummy2, 'dummy_model.pkl')\n",
        "\n",
        "\n",
        "# Fit and evaluate the XGBRegressor pipeline\n",
        "pipeline_xgb2.fit(X_train, y_train)\n",
        "y_val_pred_xgb2 = pipeline_xgb2.predict(X_val)\n",
        "mae_xgb2 = mean_absolute_error(y_val, y_val_pred_xgb2)\n",
        "print(f'MAE for XGBRegressor: {mae_xgb2}')\n",
        "\n",
        "joblib.dump(pipeline_xgb2, 'xgb_model.pkl')"
      ],
      "metadata": {
        "colab": {
          "base_uri": "https://localhost:8080/"
        },
        "id": "Tx_PaXliYBzz",
        "outputId": "97151229-5459-4302-cedf-f7f72b40fcc9"
      },
      "execution_count": null,
      "outputs": [
        {
          "output_type": "stream",
          "name": "stdout",
          "text": [
            "MAE for DummyRegressor: 13308.134750658153\n",
            "MAE for XGBRegressor: 2406.0000457967394\n"
          ]
        }
      ]
    },
    {
      "cell_type": "markdown",
      "source": [
        "¿Cómo cambia el MAE al implementar este algoritmo? ¿Es mejor o peor que el \"DummyRegressor\"?\n",
        "\n",
        "\n",
        "Al implementar este algoritmo se tiene una disminución significativa en el Valor Absoluto Medio (MAE), esto sugiere una mejora sustancial en la precisión del modelo. El MAE es una métrica que cuantifica la magnitud promedio de los errores entre las predicciones del modelo y los valores reales. En este caso, el MAE ha disminuido de 13308 a 2406 al pasar del DummyRegressor al XGBRegressor.\n",
        "\n",
        "Esta reducción en el MAE indica que el XGBRegressor está proporcionando predicciones más precisas en comparación con el DummyRegressor. Un MAE más bajo implica que las predicciones del modelo están más cerca de los valores reales, lo que se traduce en un rendimiento mejorado."
      ],
      "metadata": {
        "id": "Z3J-3DB4mnUS"
      }
    },
    {
      "cell_type": "markdown",
      "metadata": {
        "cell_id": "7e17e46063774ec28226fe300d42ffe0",
        "deepnote_cell_type": "markdown",
        "id": "2G9wVVg2CxPZ"
      },
      "source": [
        "## 1.2 Forzando relaciones entre parámetros con XGBoost (1.0 puntos)\n",
        "\n",
        "<p align=\"center\">\n",
        "  <img src=\"https://64.media.tumblr.com/14cc45f9610a6ee341a45fd0d68f4dde/20d11b36022bca7b-bf/s640x960/67ab1db12ff73a530f649ac455c000945d99c0d6.gif\">\n",
        "</p>\n",
        "\n",
        "Un colega aficionado a la economía le *sopla* que la demanda guarda una relación inversa con el precio del producto. Motivado para impresionar al querido corpóreo, se propone hacer uso de esta información para mejorar su modelo.\n",
        "\n",
        "Vuelva a entrenar el `Pipeline`, pero esta vez forzando una relación monótona negativa entre el precio y la cantidad. Luego, vuelva a reportar el `MAE` sobre el conjunto de validación. ¿Cómo cambia el error al incluir esta relación? ¿Tenía razón su amigo?\n",
        "\n",
        "Nuevamente, guarde su modelo en un archivo .pkl\n",
        "\n",
        "Nota: Para realizar esta parte, debe apoyarse en la siguiente <a href = https://xgboost.readthedocs.io/en/stable/tutorials/monotonic.html>documentación</a>.\n",
        "\n",
        "Hint: Para implementar el constraint, se le sugiere hacerlo especificando el nombre de la variable. De ser así, probablemente le sea útil **mantener el formato de pandas** antes del step de entrenamiento."
      ]
    },
    {
      "cell_type": "code",
      "source": [
        "class SparseToDataFrameTransformer:\n",
        "    def fit(self, X, y=None):\n",
        "        return self\n",
        "\n",
        "    def transform(self, X):\n",
        "        df = pd.DataFrame(X.toarray(), columns=[f'col_{i}' for i in range(X.shape[1])])\n",
        "\n",
        "        df.columns = numeric_features + list(df.columns[4:])\n",
        "\n",
        "        return df"
      ],
      "metadata": {
        "id": "QaIN6LWalrMy"
      },
      "execution_count": null,
      "outputs": []
    },
    {
      "cell_type": "code",
      "metadata": {
        "cell_id": "f469f3b572be434191d2d5c3f11b20d2",
        "deepnote_cell_type": "code",
        "colab": {
          "base_uri": "https://localhost:8080/"
        },
        "id": "8cmpIQvmCxPZ",
        "outputId": "9ab2a8b0-a95c-4481-86d5-bb18b2503151"
      },
      "source": [
        "xgb_model_with_constraints = XGBRegressor(monotone_constraints={'price': -1})\n",
        "\n",
        "pipeline_xgb_constraints = Pipeline([\n",
        "    ('date_transform', date_transformer),\n",
        "    ('preprocessor', preprocessor),\n",
        "    ('to_dataframe', SparseToDataFrameTransformer()),\n",
        "    ('regressor', xgb_model_with_constraints)\n",
        "])\n",
        "\n",
        "pipeline_xgb_constraints.fit(X_train, y_train)\n",
        "y_val_pred_xgb2 = pipeline_xgb_constraints.predict(X_val)\n",
        "mae_xgb_constraints = mean_absolute_error(y_val, y_val_pred_xgb2)\n",
        "print(f'MAE for XGBRegressor: {mae_xgb_constraints}')\n",
        "joblib.dump(pipeline_xgb_monotone, 'xgb_model_monotone.pkl')"
      ],
      "execution_count": null,
      "outputs": [
        {
          "output_type": "stream",
          "name": "stdout",
          "text": [
            "MAE for XGBRegressor: 2327.1220129443423\n"
          ]
        }
      ]
    },
    {
      "cell_type": "markdown",
      "source": [
        "¿Cómo cambia el error al incluir esta relación? ¿Tenía razón su amigo?\n",
        "\n",
        "**Respuesta:**\n",
        "\n",
        "\n",
        "Al incorporar la relación monotona entre el precio y la cantidad, observamos una notable mejora en la precisión del modelo. El error medio absoluto (MAE) disminuye de 2406 a 2327, lo que sugiere que la inclusión de esta relación mejora la capacidad del modelo para predecir las demandas. Este cambio en el error respalda la validez de la relación identificada por el modelo entre el precio y la cantidad demandada.\n",
        "\n",
        "Por lo tanto, la conclusión es que sí, la inclusión de la relación propuesta por su amigo parece ser acertada.\n",
        "\n"
      ],
      "metadata": {
        "id": "wKiw7n7qoOaG"
      }
    },
    {
      "cell_type": "markdown",
      "metadata": {
        "cell_id": "e59ef80ed20b4de8921f24da74e87374",
        "deepnote_cell_type": "markdown",
        "id": "6usCpRe0CxPZ"
      },
      "source": [
        "## 1.3 Optimización de Hiperparámetros con Optuna (2.0 puntos)\n",
        "\n",
        "<p align=\"center\">\n",
        "  <img src=\"https://media.tenor.com/fmNdyGN4z5kAAAAi/hacking-lucy.gif\">\n",
        "</p>\n",
        "\n",
        "Luego de presentarle sus resultados, Fiu le pregunta si es posible mejorar *aun más* su modelo. En particular, le comenta de la optimización de hiperparámetros con metodologías bayesianas a través del paquete `optuna`. Como usted es un aficionado al entrenamiento de modelos de ML, se propone implementar la descabellada idea de su jefe.\n",
        "\n",
        "A partir de la mejor configuración obtenida en la sección anterior, utilice `optuna` para optimizar sus hiperparámetros. En particular, se le pide:\n",
        "\n",
        "- Fijar una semilla en las instancias necesarias para garantizar la reproducibilidad de resultados\n",
        "- Utilice `TPESampler` como método de muestreo\n",
        "- De `XGBRegressor`, optimice los siguientes hiperparámetros:\n",
        "    - `learning_rate` buscando valores flotantes en el rango (0.001, 0.1)\n",
        "    - `n_estimators` buscando valores enteros en el rango (50, 1000)\n",
        "    - `max_depth` buscando valores enteros en el rango (3, 10)\n",
        "    - `max_leaves` buscando valores enteros en el rango (0, 100)\n",
        "    - `min_child_weight` buscando valores enteros en el rango (1, 5)\n",
        "    - `reg_alpha` buscando valores flotantes en el rango (0, 1)\n",
        "    - `reg_lambda` buscando valores flotantes en el rango (0, 1)\n",
        "- De `OneHotEncoder`, optimice el hiperparámetro `min_frequency` buscando el mejor valor flotante en el rango (0.0, 1.0)\n",
        "- Explique cada hiperparámetro y su rol en el modelo. ¿Hacen sentido los rangos de optimización indicados?\n",
        "- Fije el tiempo de entrenamiento a 5 minutos\n",
        "- Reportar el número de *trials*, el `MAE` y los mejores hiperparámetros encontrados. ¿Cómo cambian sus resultados con respecto a la sección anterior? ¿A qué se puede deber esto?\n",
        "- Guardar su modelo en un archivo .pkl"
      ]
    },
    {
      "cell_type": "markdown",
      "source": [
        "---\n",
        "Explique cada hiperparámetro y su rol en el modelo. ¿Hacen sentido los rangos de optimización indicados?\n",
        "\n",
        "**Respuesta:**\n",
        "\n",
        "Los hiperparámetros y sus roles son los siguientes:\n",
        "\n",
        "learning_rate: Define la tasa de aprendizaje del modelo. \\\n",
        "n_estimators: Número de árboles (estimadores) en el ensamble. \\\n",
        "max_depth: Profundidad máxima de cada árbol. \\\n",
        "max_leaves: Número máximo de hojas por árbol. \\\n",
        "min_child_weight: Mínimo peso requerido para crear un nuevo nodo en el árbol. \\\n",
        "reg_alpha: Término de regularización L1. \\\n",
        "reg_lambda: Término de regularización L2. \\\n",
        "\n",
        "En cuanto a los rangos se tiene lo siguiente:\n",
        "\n",
        "\n",
        "\n",
        "*   **learning_rate**: El rango (0.001, 0.1) es común para este hiperparámetro en modelos de gradient boosting.\n",
        "*   **n_estimators**: El rango (50, 1000) para el número de estimadores (o árboles) en el bosque parece razonable. Es importante equilibrar el desempeño y la eficiencia computacional.\n",
        "\n",
        "* max_depth: Un rango de (3, 10) para la profundidad máxima de los árboles es razonable. Esto evita árboles demasiado profundos que podrían llevar a sobreajuste.\n",
        "\n",
        "* **max_leaves**: No es común tener un hiperparámetro específico para el número máximo de hojas.\n",
        "\n",
        "* **min_child_weight**: El rango (1, 5) es razonable para este hiperparámetro, que controla la cantidad mínima de instancias necesarias en cada hoja.\n",
        "\n",
        "* **reg_alpha y reg_lambda**: Los rangos (0, 1) para ambos parámetros de regularización son apropiados. Controlan la regularización L1 y L2, respectivamente. Estos valores más altos penalizan los coeficientes más grandes y pueden ayudar a prevenir el sobreajuste.\n",
        "\n"
      ],
      "metadata": {
        "id": "nln6CUGVpvss"
      }
    },
    {
      "cell_type": "code",
      "metadata": {
        "cell_id": "de5914621cc64cb0b1bacb9ff565a97e",
        "deepnote_cell_type": "code",
        "id": "Dy_OvUjkCxPa"
      },
      "source": [
        "import optuna\n",
        "import xgboost as xgb\n",
        "from sklearn.model_selection import cross_val_score\n",
        "from sklearn.pipeline import make_pipeline\n",
        "from sklearn.preprocessing import OneHotEncoder\n",
        "from sklearn.compose import ColumnTransformer\n",
        "from sklearn.impute import SimpleImputer\n",
        "from sklearn.metrics import mean_absolute_error\n",
        "import joblib\n",
        "import time\n",
        "\n",
        "# Fijar la semilla para reproducibilidad\n",
        "seed = 42\n",
        "import numpy as np\n",
        "np.random.seed(seed)\n",
        "\n",
        "# Definir los rangos de optimización\n",
        "param_ranges = {\n",
        "    'learning_rate': (0.001, 0.1),\n",
        "    'n_estimators': (50, 1000),\n",
        "    'max_depth': (3, 10),\n",
        "    'max_leaves': (0, 100),\n",
        "    'min_child_weight': (1, 5),\n",
        "    'reg_alpha': (0, 1),\n",
        "    'reg_lambda': (0, 1),\n",
        "}\n",
        "\n",
        "encoder_ranges = {\n",
        "    'min_frequency': (0.0, 1.0)\n",
        "}\n"
      ],
      "execution_count": null,
      "outputs": []
    },
    {
      "cell_type": "code",
      "source": [
        "def objective(trial):\n",
        "    # Definir el espacio de búsqueda para XGBRegressor\n",
        "    xgb_params = {\n",
        "        'learning_rate': trial.suggest_float('learning_rate', *param_ranges['learning_rate']),\n",
        "        'n_estimators': trial.suggest_int('n_estimators', *param_ranges['n_estimators']),\n",
        "        'max_depth': trial.suggest_int('max_depth', *param_ranges['max_depth']),\n",
        "        'max_leaves': trial.suggest_int('max_leaves', *param_ranges['max_leaves']),\n",
        "        'min_child_weight': trial.suggest_int('min_child_weight', *param_ranges['min_child_weight']),\n",
        "        'reg_alpha': trial.suggest_float('reg_alpha', *param_ranges['reg_alpha']),\n",
        "        'reg_lambda': trial.suggest_float('reg_lambda', *param_ranges['reg_lambda']),\n",
        "    }\n",
        "\n",
        "    # Definir el espacio de búsqueda para OneHotEncoder\n",
        "    encoder_params = {\n",
        "        'min_frequency': trial.suggest_float('min_frequency', *encoder_ranges['min_frequency'])\n",
        "    }\n",
        "\n",
        "    # Crear el modelo con el pipeline\n",
        "\n",
        "    preprocessor = ColumnTransformer(\n",
        "        transformers=[\n",
        "            ('num', StandardScaler(), numeric_features),\n",
        "            ('cat', OneHotEncoder(min_frequency=encoder_params['min_frequency']), categorical_features)\n",
        "        ])\n",
        "\n",
        "    pipeline_xgb = Pipeline([\n",
        "    ('date_transform', date_transformer),\n",
        "    ('preprocessor', preprocessor),\n",
        "    ('regressor', XGBRegressor(**xgb_params))\n",
        "    ])\n",
        "\n",
        "    start_time = time.time()\n",
        "\n",
        "\n",
        "    mae = cross_val_score(pipeline_xgb, X_train, y_train, scoring='neg_mean_absolute_error').mean()\n",
        "    elapsed_time = time.time() - start_time\n",
        "\n",
        "    # Reportar el tiempo de entrenamiento\n",
        "    print(f\"Tiempo de entrenamiento: {elapsed_time} segundos\")\n",
        "\n",
        "    # Devolver el valor negativo de la métrica para minimizar (optuna maximiza la función objetivo)\n",
        "    return -mae\n",
        "sampler = optuna.samplers.TPESampler(seed=seed)\n",
        "study = optuna.create_study(direction='minimize', sampler=sampler)\n",
        "# Configurar el tiempo límite de la optimización a 5 minutos\n",
        "study.optimize(objective, n_trials=100, timeout=300)\n",
        "\n",
        "# Obtener los mejores hiperparámetros y su rendimiento\n",
        "best_params = study.best_params\n",
        "best_mae = -study.best_value\n",
        "num_trials = len(study.trials)\n",
        "\n",
        "print(f\"Número de trials: {num_trials}\")\n",
        "print(f\"MAE: {best_mae}\")\n",
        "print(f\"Mejores hiperparámetros: {best_params}\")\n",
        "\n",
        "# Guardar el mejor trial en un archivo .pkl\n",
        "best_trial = study.best_trial\n",
        "joblib.dump(best_trial, 'mejor_trial_optimizado.pkl')"
      ],
      "metadata": {
        "colab": {
          "base_uri": "https://localhost:8080/"
        },
        "id": "FTh2YtXz8Nl2",
        "outputId": "de84814d-db54-4452-e0f9-463e76274cfb"
      },
      "execution_count": null,
      "outputs": [
        {
          "output_type": "stream",
          "name": "stderr",
          "text": [
            "[I 2023-11-17 01:45:45,639] A new study created in memory with name: no-name-96ac26cc-95e3-4a89-ab5b-c9bc129efa98\n",
            "[I 2023-11-17 01:45:54,645] Trial 0 finished with value: 9726.548342972827 and parameters: {'learning_rate': 0.03807947176588889, 'n_estimators': 954, 'max_depth': 8, 'max_leaves': 60, 'min_child_weight': 1, 'reg_alpha': 0.15599452033620265, 'reg_lambda': 0.05808361216819946, 'min_frequency': 0.8661761457749352}. Best is trial 0 with value: 9726.548342972827.\n"
          ]
        },
        {
          "output_type": "stream",
          "name": "stdout",
          "text": [
            "Tiempo de entrenamiento: 8.982993125915527 segundos\n"
          ]
        },
        {
          "output_type": "stream",
          "name": "stderr",
          "text": [
            "[I 2023-11-17 01:45:56,544] Trial 1 finished with value: 5971.39114343281 and parameters: {'learning_rate': 0.06051038616257767, 'n_estimators': 723, 'max_depth': 3, 'max_leaves': 97, 'min_child_weight': 5, 'reg_alpha': 0.21233911067827616, 'reg_lambda': 0.18182496720710062, 'min_frequency': 0.18340450985343382}. Best is trial 1 with value: 5971.39114343281.\n"
          ]
        },
        {
          "output_type": "stream",
          "name": "stdout",
          "text": [
            "Tiempo de entrenamiento: 1.891035556793213 segundos\n"
          ]
        },
        {
          "output_type": "stream",
          "name": "stderr",
          "text": [
            "[I 2023-11-17 01:45:58,683] Trial 2 finished with value: 8852.264057870689 and parameters: {'learning_rate': 0.03111998205299424, 'n_estimators': 549, 'max_depth': 6, 'max_leaves': 29, 'min_child_weight': 4, 'reg_alpha': 0.13949386065204183, 'reg_lambda': 0.29214464853521815, 'min_frequency': 0.3663618432936917}. Best is trial 1 with value: 5971.39114343281.\n"
          ]
        },
        {
          "output_type": "stream",
          "name": "stdout",
          "text": [
            "Tiempo de entrenamiento: 2.133605480194092 segundos\n"
          ]
        },
        {
          "output_type": "stream",
          "name": "stderr",
          "text": [
            "[I 2023-11-17 01:46:06,527] Trial 3 finished with value: 5976.310572955639 and parameters: {'learning_rate': 0.04615092843748656, 'n_estimators': 796, 'max_depth': 4, 'max_leaves': 51, 'min_child_weight': 3, 'reg_alpha': 0.046450412719997725, 'reg_lambda': 0.6075448519014384, 'min_frequency': 0.17052412368729153}. Best is trial 1 with value: 5971.39114343281.\n"
          ]
        },
        {
          "output_type": "stream",
          "name": "stdout",
          "text": [
            "Tiempo de entrenamiento: 7.8387346267700195 segundos\n"
          ]
        },
        {
          "output_type": "stream",
          "name": "stderr",
          "text": [
            "[I 2023-11-17 01:46:12,423] Trial 4 finished with value: 8886.79558521244 and parameters: {'learning_rate': 0.0074401077055426725, 'n_estimators': 952, 'max_depth': 10, 'max_leaves': 81, 'min_child_weight': 2, 'reg_alpha': 0.09767211400638387, 'reg_lambda': 0.6842330265121569, 'min_frequency': 0.4401524937396013}. Best is trial 1 with value: 5971.39114343281.\n"
          ]
        },
        {
          "output_type": "stream",
          "name": "stdout",
          "text": [
            "Tiempo de entrenamiento: 5.890225648880005 segundos\n"
          ]
        },
        {
          "output_type": "stream",
          "name": "stderr",
          "text": [
            "[I 2023-11-17 01:46:13,914] Trial 5 finished with value: 8615.761465735046 and parameters: {'learning_rate': 0.013081785249633104, 'n_estimators': 520, 'max_depth': 3, 'max_leaves': 91, 'min_child_weight': 2, 'reg_alpha': 0.662522284353982, 'reg_lambda': 0.31171107608941095, 'min_frequency': 0.5200680211778108}. Best is trial 1 with value: 5971.39114343281.\n"
          ]
        },
        {
          "output_type": "stream",
          "name": "stdout",
          "text": [
            "Tiempo de entrenamiento: 1.4854013919830322 segundos\n"
          ]
        },
        {
          "output_type": "stream",
          "name": "stderr",
          "text": [
            "[I 2023-11-17 01:46:15,518] Trial 6 finished with value: 9089.247224937677 and parameters: {'learning_rate': 0.05512431765498469, 'n_estimators': 225, 'max_depth': 10, 'max_leaves': 78, 'min_child_weight': 5, 'reg_alpha': 0.8948273504276488, 'reg_lambda': 0.5978999788110851, 'min_frequency': 0.9218742350231168}. Best is trial 1 with value: 5971.39114343281.\n"
          ]
        },
        {
          "output_type": "stream",
          "name": "stdout",
          "text": [
            "Tiempo de entrenamiento: 1.5957891941070557 segundos\n"
          ]
        },
        {
          "output_type": "stream",
          "name": "stderr",
          "text": [
            "[I 2023-11-17 01:46:21,607] Trial 7 finished with value: 9099.488016267878 and parameters: {'learning_rate': 0.00976075770314003, 'n_estimators': 236, 'max_depth': 3, 'max_leaves': 32, 'min_child_weight': 2, 'reg_alpha': 0.2713490317738959, 'reg_lambda': 0.8287375091519293, 'min_frequency': 0.3567533266935893}. Best is trial 1 with value: 5971.39114343281.\n"
          ]
        },
        {
          "output_type": "stream",
          "name": "stdout",
          "text": [
            "Tiempo de entrenamiento: 6.083338499069214 segundos\n"
          ]
        },
        {
          "output_type": "stream",
          "name": "stderr",
          "text": [
            "[I 2023-11-17 01:46:23,559] Trial 8 finished with value: 6108.311240907414 and parameters: {'learning_rate': 0.028812516459050697, 'n_estimators': 566, 'max_depth': 4, 'max_leaves': 81, 'min_child_weight': 1, 'reg_alpha': 0.9868869366005173, 'reg_lambda': 0.7722447692966574, 'min_frequency': 0.1987156815341724}. Best is trial 1 with value: 5971.39114343281.\n"
          ]
        },
        {
          "output_type": "stream",
          "name": "stdout",
          "text": [
            "Tiempo de entrenamiento: 1.946481704711914 segundos\n"
          ]
        },
        {
          "output_type": "stream",
          "name": "stderr",
          "text": [
            "[I 2023-11-17 01:46:30,227] Trial 9 finished with value: 7656.7516644020725 and parameters: {'learning_rate': 0.0015466895952366377, 'n_estimators': 825, 'max_depth': 8, 'max_leaves': 73, 'min_child_weight': 4, 'reg_alpha': 0.07404465173409036, 'reg_lambda': 0.3584657285442726, 'min_frequency': 0.11586905952512971}. Best is trial 1 with value: 5971.39114343281.\n"
          ]
        },
        {
          "output_type": "stream",
          "name": "stdout",
          "text": [
            "Tiempo de entrenamiento: 6.660070180892944 segundos\n"
          ]
        },
        {
          "output_type": "stream",
          "name": "stderr",
          "text": [
            "[I 2023-11-17 01:46:30,705] Trial 10 finished with value: 13560.446601880485 and parameters: {'learning_rate': 0.08024714498228255, 'n_estimators': 55, 'max_depth': 6, 'max_leaves': 1, 'min_child_weight': 5, 'reg_alpha': 0.38029296025181053, 'reg_lambda': 0.9597707459454197, 'min_frequency': 0.012307547750103565}. Best is trial 1 with value: 5971.39114343281.\n"
          ]
        },
        {
          "output_type": "stream",
          "name": "stdout",
          "text": [
            "Tiempo de entrenamiento: 0.43189024925231934 segundos\n"
          ]
        },
        {
          "output_type": "stream",
          "name": "stderr",
          "text": [
            "[I 2023-11-17 01:46:38,872] Trial 11 finished with value: 6408.614660314315 and parameters: {'learning_rate': 0.06306148084575021, 'n_estimators': 731, 'max_depth': 5, 'max_leaves': 44, 'min_child_weight': 3, 'reg_alpha': 0.031502239667032306, 'reg_lambda': 0.4818963296633295, 'min_frequency': 0.19949541921688124}. Best is trial 1 with value: 5971.39114343281.\n"
          ]
        },
        {
          "output_type": "stream",
          "name": "stdout",
          "text": [
            "Tiempo de entrenamiento: 8.12408185005188 segundos\n"
          ]
        },
        {
          "output_type": "stream",
          "name": "stderr",
          "text": [
            "[I 2023-11-17 01:46:40,914] Trial 12 finished with value: 3189.4174313049543 and parameters: {'learning_rate': 0.06996077200878173, 'n_estimators': 714, 'max_depth': 4, 'max_leaves': 6, 'min_child_weight': 4, 'reg_alpha': 0.31841028970708946, 'reg_lambda': 0.10891102882347022, 'min_frequency': 0.04895637317151069}. Best is trial 12 with value: 3189.4174313049543.\n"
          ]
        },
        {
          "output_type": "stream",
          "name": "stdout",
          "text": [
            "Tiempo de entrenamiento: 1.9957129955291748 segundos\n"
          ]
        },
        {
          "output_type": "stream",
          "name": "stderr",
          "text": [
            "[I 2023-11-17 01:46:41,969] Trial 13 finished with value: 13560.446601880485 and parameters: {'learning_rate': 0.09716037926467166, 'n_estimators': 632, 'max_depth': 4, 'max_leaves': 1, 'min_child_weight': 4, 'reg_alpha': 0.3909577911411604, 'reg_lambda': 0.0026455842277246927, 'min_frequency': 0.002787227938632564}. Best is trial 12 with value: 3189.4174313049543.\n"
          ]
        },
        {
          "output_type": "stream",
          "name": "stdout",
          "text": [
            "Tiempo de entrenamiento: 1.0091485977172852 segundos\n"
          ]
        },
        {
          "output_type": "stream",
          "name": "stderr",
          "text": [
            "[I 2023-11-17 01:46:43,365] Trial 14 finished with value: 3275.7876266837093 and parameters: {'learning_rate': 0.06529886845926859, 'n_estimators': 400, 'max_depth': 3, 'max_leaves': 99, 'min_child_weight': 5, 'reg_alpha': 0.5164077923393884, 'reg_lambda': 0.13881283755258755, 'min_frequency': 0.001927953997670942}. Best is trial 12 with value: 3189.4174313049543.\n"
          ]
        },
        {
          "output_type": "stream",
          "name": "stdout",
          "text": [
            "Tiempo de entrenamiento: 1.3494763374328613 segundos\n"
          ]
        },
        {
          "output_type": "stream",
          "name": "stderr",
          "text": [
            "[I 2023-11-17 01:46:45,556] Trial 15 finished with value: 2703.9501278365433 and parameters: {'learning_rate': 0.07109297454060096, 'n_estimators': 392, 'max_depth': 5, 'max_leaves': 19, 'min_child_weight': 4, 'reg_alpha': 0.5999571082290116, 'reg_lambda': 0.10364983884639589, 'min_frequency': 0.00241599815061905}. Best is trial 15 with value: 2703.9501278365433.\n"
          ]
        },
        {
          "output_type": "stream",
          "name": "stdout",
          "text": [
            "Tiempo de entrenamiento: 2.1435725688934326 segundos\n"
          ]
        },
        {
          "output_type": "stream",
          "name": "stderr",
          "text": [
            "[I 2023-11-17 01:46:47,360] Trial 16 finished with value: 6794.840794391045 and parameters: {'learning_rate': 0.07717226466966207, 'n_estimators': 384, 'max_depth': 5, 'max_leaves': 16, 'min_child_weight': 4, 'reg_alpha': 0.5995018382569195, 'reg_lambda': 0.1639523781014126, 'min_frequency': 0.27504063681238394}. Best is trial 15 with value: 2703.9501278365433.\n"
          ]
        },
        {
          "output_type": "stream",
          "name": "stdout",
          "text": [
            "Tiempo de entrenamiento: 1.7550830841064453 segundos\n"
          ]
        },
        {
          "output_type": "stream",
          "name": "stderr",
          "text": [
            "[I 2023-11-17 01:46:54,342] Trial 17 finished with value: 5985.73052767868 and parameters: {'learning_rate': 0.07462376027613872, 'n_estimators': 413, 'max_depth': 7, 'max_leaves': 17, 'min_child_weight': 3, 'reg_alpha': 0.7071944785663509, 'reg_lambda': 0.013179214380923399, 'min_frequency': 0.09268205927215767}. Best is trial 15 with value: 2703.9501278365433.\n"
          ]
        },
        {
          "output_type": "stream",
          "name": "stdout",
          "text": [
            "Tiempo de entrenamiento: 6.895614385604858 segundos\n"
          ]
        },
        {
          "output_type": "stream",
          "name": "stderr",
          "text": [
            "[I 2023-11-17 01:46:55,422] Trial 18 finished with value: 8863.63725604269 and parameters: {'learning_rate': 0.09186746725391509, 'n_estimators': 296, 'max_depth': 5, 'max_leaves': 15, 'min_child_weight': 4, 'reg_alpha': 0.32033973525791665, 'reg_lambda': 0.4203008440715582, 'min_frequency': 0.589537449893698}. Best is trial 15 with value: 2703.9501278365433.\n"
          ]
        },
        {
          "output_type": "stream",
          "name": "stdout",
          "text": [
            "Tiempo de entrenamiento: 1.0281798839569092 segundos\n"
          ]
        },
        {
          "output_type": "stream",
          "name": "stderr",
          "text": [
            "[I 2023-11-17 01:46:56,367] Trial 19 finished with value: 5881.872775092314 and parameters: {'learning_rate': 0.0875489461264603, 'n_estimators': 113, 'max_depth': 7, 'max_leaves': 25, 'min_child_weight': 4, 'reg_alpha': 0.4721225751760479, 'reg_lambda': 0.2380380003862027, 'min_frequency': 0.09017405294742764}. Best is trial 15 with value: 2703.9501278365433.\n"
          ]
        },
        {
          "output_type": "stream",
          "name": "stdout",
          "text": [
            "Tiempo de entrenamiento: 0.896449089050293 segundos\n"
          ]
        },
        {
          "output_type": "stream",
          "name": "stderr",
          "text": [
            "[I 2023-11-17 01:46:58,346] Trial 20 finished with value: 6928.489964398372 and parameters: {'learning_rate': 0.0704994445692103, 'n_estimators': 480, 'max_depth': 5, 'max_leaves': 40, 'min_child_weight': 3, 'reg_alpha': 0.23150662050808882, 'reg_lambda': 0.10515056915518443, 'min_frequency': 0.25458466695512055}. Best is trial 15 with value: 2703.9501278365433.\n"
          ]
        },
        {
          "output_type": "stream",
          "name": "stdout",
          "text": [
            "Tiempo de entrenamiento: 1.9321961402893066 segundos\n"
          ]
        },
        {
          "output_type": "stream",
          "name": "stderr",
          "text": [
            "[I 2023-11-17 01:46:59,877] Trial 21 finished with value: 3305.791358282417 and parameters: {'learning_rate': 0.06530458807652613, 'n_estimators': 369, 'max_depth': 4, 'max_leaves': 9, 'min_child_weight': 5, 'reg_alpha': 0.5224682870256093, 'reg_lambda': 0.15676436557092316, 'min_frequency': 0.05065016278216242}. Best is trial 15 with value: 2703.9501278365433.\n"
          ]
        },
        {
          "output_type": "stream",
          "name": "stdout",
          "text": [
            "Tiempo de entrenamiento: 1.481839656829834 segundos\n"
          ]
        },
        {
          "output_type": "stream",
          "name": "stderr",
          "text": [
            "[I 2023-11-17 01:47:01,853] Trial 22 finished with value: 2905.6200544862886 and parameters: {'learning_rate': 0.08375682953002592, 'n_estimators': 638, 'max_depth': 3, 'max_leaves': 62, 'min_child_weight': 5, 'reg_alpha': 0.4702793730780852, 'reg_lambda': 0.1264326356149058, 'min_frequency': 0.00023830758896180087}. Best is trial 15 with value: 2703.9501278365433.\n"
          ]
        },
        {
          "output_type": "stream",
          "name": "stdout",
          "text": [
            "Tiempo de entrenamiento: 1.926386833190918 segundos\n"
          ]
        },
        {
          "output_type": "stream",
          "name": "stderr",
          "text": [
            "[I 2023-11-17 01:47:09,716] Trial 23 finished with value: 6086.803484643049 and parameters: {'learning_rate': 0.08326318652496563, 'n_estimators': 687, 'max_depth': 4, 'max_leaves': 63, 'min_child_weight': 5, 'reg_alpha': 0.4303757922593826, 'reg_lambda': 0.23018366596397816, 'min_frequency': 0.10727208592748333}. Best is trial 15 with value: 2703.9501278365433.\n"
          ]
        },
        {
          "output_type": "stream",
          "name": "stdout",
          "text": [
            "Tiempo de entrenamiento: 7.812807083129883 segundos\n"
          ]
        },
        {
          "output_type": "stream",
          "name": "stderr",
          "text": [
            "[I 2023-11-17 01:47:13,949] Trial 24 finished with value: 2386.183851129785 and parameters: {'learning_rate': 0.07375445260797374, 'n_estimators': 634, 'max_depth': 6, 'max_leaves': 62, 'min_child_weight': 4, 'reg_alpha': 0.3107075940011361, 'reg_lambda': 0.08780838003360816, 'min_frequency': 0.07993199306408215}. Best is trial 24 with value: 2386.183851129785.\n"
          ]
        },
        {
          "output_type": "stream",
          "name": "stdout",
          "text": [
            "Tiempo de entrenamiento: 4.179307699203491 segundos\n"
          ]
        },
        {
          "output_type": "stream",
          "name": "stderr",
          "text": [
            "[I 2023-11-17 01:47:17,313] Trial 25 finished with value: 6548.402109803358 and parameters: {'learning_rate': 0.09993005423129347, 'n_estimators': 612, 'max_depth': 6, 'max_leaves': 56, 'min_child_weight': 4, 'reg_alpha': 0.5753434809618435, 'reg_lambda': 0.07188055566829006, 'min_frequency': 0.12022289464728575}. Best is trial 24 with value: 2386.183851129785.\n"
          ]
        },
        {
          "output_type": "stream",
          "name": "stdout",
          "text": [
            "Tiempo de entrenamiento: 3.3098692893981934 segundos\n"
          ]
        },
        {
          "output_type": "stream",
          "name": "stderr",
          "text": [
            "[I 2023-11-17 01:47:30,184] Trial 26 finished with value: 2291.073688536656 and parameters: {'learning_rate': 0.08643321934513165, 'n_estimators': 867, 'max_depth': 8, 'max_leaves': 67, 'min_child_weight': 5, 'reg_alpha': 0.434218358336705, 'reg_lambda': 0.24108659990613218, 'min_frequency': 0.006227558037883557}. Best is trial 26 with value: 2291.073688536656.\n"
          ]
        },
        {
          "output_type": "stream",
          "name": "stdout",
          "text": [
            "Tiempo de entrenamiento: 12.817745685577393 segundos\n"
          ]
        },
        {
          "output_type": "stream",
          "name": "stderr",
          "text": [
            "[I 2023-11-17 01:47:41,847] Trial 27 finished with value: 6886.443877810429 and parameters: {'learning_rate': 0.09009366547944761, 'n_estimators': 847, 'max_depth': 9, 'max_leaves': 69, 'min_child_weight': 3, 'reg_alpha': 0.3533028776873427, 'reg_lambda': 0.2351089552636408, 'min_frequency': 0.13714712417640718}. Best is trial 26 with value: 2291.073688536656.\n"
          ]
        },
        {
          "output_type": "stream",
          "name": "stdout",
          "text": [
            "Tiempo de entrenamiento: 11.612095832824707 segundos\n"
          ]
        },
        {
          "output_type": "stream",
          "name": "stderr",
          "text": [
            "[I 2023-11-17 01:47:47,680] Trial 28 finished with value: 2288.8684083224944 and parameters: {'learning_rate': 0.07755100419882568, 'n_estimators': 885, 'max_depth': 8, 'max_leaves': 42, 'min_child_weight': 4, 'reg_alpha': 0.41188248330550925, 'reg_lambda': 0.35363447013242266, 'min_frequency': 0.0732000386207095}. Best is trial 28 with value: 2288.8684083224944.\n"
          ]
        },
        {
          "output_type": "stream",
          "name": "stdout",
          "text": [
            "Tiempo de entrenamiento: 5.7818379402160645 segundos\n"
          ]
        },
        {
          "output_type": "stream",
          "name": "stderr",
          "text": [
            "[I 2023-11-17 01:47:57,172] Trial 29 finished with value: 9767.689512980496 and parameters: {'learning_rate': 0.0778439478491307, 'n_estimators': 978, 'max_depth': 8, 'max_leaves': 42, 'min_child_weight': 5, 'reg_alpha': 0.20549172714422656, 'reg_lambda': 0.36962337536074896, 'min_frequency': 0.663307664496384}. Best is trial 28 with value: 2288.8684083224944.\n"
          ]
        },
        {
          "output_type": "stream",
          "name": "stdout",
          "text": [
            "Tiempo de entrenamiento: 9.441220998764038 segundos\n"
          ]
        },
        {
          "output_type": "stream",
          "name": "stderr",
          "text": [
            "[I 2023-11-17 01:48:01,869] Trial 30 finished with value: 7693.700655368957 and parameters: {'learning_rate': 0.09448893019517805, 'n_estimators': 896, 'max_depth': 9, 'max_leaves': 51, 'min_child_weight': 3, 'reg_alpha': 0.282224294857474, 'reg_lambda': 0.45229190338516867, 'min_frequency': 0.26052070813969297}. Best is trial 28 with value: 2288.8684083224944.\n"
          ]
        },
        {
          "output_type": "stream",
          "name": "stdout",
          "text": [
            "Tiempo de entrenamiento: 4.644890785217285 segundos\n"
          ]
        },
        {
          "output_type": "stream",
          "name": "stderr",
          "text": [
            "[I 2023-11-17 01:48:14,491] Trial 31 finished with value: 2288.2664292849904 and parameters: {'learning_rate': 0.08637102405687036, 'n_estimators': 918, 'max_depth': 7, 'max_leaves': 68, 'min_child_weight': 4, 'reg_alpha': 0.4216902629736669, 'reg_lambda': 0.2942009522692629, 'min_frequency': 0.0677618310089884}. Best is trial 31 with value: 2288.2664292849904.\n"
          ]
        },
        {
          "output_type": "stream",
          "name": "stdout",
          "text": [
            "Tiempo de entrenamiento: 12.557784795761108 segundos\n"
          ]
        },
        {
          "output_type": "stream",
          "name": "stderr",
          "text": [
            "[I 2023-11-17 01:48:27,030] Trial 32 finished with value: 2307.842962732245 and parameters: {'learning_rate': 0.08816345786593886, 'n_estimators': 905, 'max_depth': 7, 'max_leaves': 71, 'min_child_weight': 4, 'reg_alpha': 0.42104805125037503, 'reg_lambda': 0.31516082684965663, 'min_frequency': 0.0756346976457898}. Best is trial 31 with value: 2288.2664292849904.\n"
          ]
        },
        {
          "output_type": "stream",
          "name": "stdout",
          "text": [
            "Tiempo de entrenamiento: 12.48157787322998 segundos\n"
          ]
        },
        {
          "output_type": "stream",
          "name": "stderr",
          "text": [
            "[I 2023-11-17 01:48:31,925] Trial 33 finished with value: 6719.965127316475 and parameters: {'learning_rate': 0.08708322330824068, 'n_estimators': 918, 'max_depth': 7, 'max_leaves': 87, 'min_child_weight': 5, 'reg_alpha': 0.42498010492920596, 'reg_lambda': 0.319633992845119, 'min_frequency': 0.17314278060752308}. Best is trial 31 with value: 2288.2664292849904.\n"
          ]
        },
        {
          "output_type": "stream",
          "name": "stdout",
          "text": [
            "Tiempo de entrenamiento: 4.842794895172119 segundos\n"
          ]
        },
        {
          "output_type": "stream",
          "name": "stderr",
          "text": [
            "[I 2023-11-17 01:48:42,878] Trial 34 finished with value: 6818.640985894645 and parameters: {'learning_rate': 0.0919836407443411, 'n_estimators': 767, 'max_depth': 9, 'max_leaves': 69, 'min_child_weight': 4, 'reg_alpha': 0.40734686496869793, 'reg_lambda': 0.4183208184624338, 'min_frequency': 0.156315303524714}. Best is trial 31 with value: 2288.2664292849904.\n"
          ]
        },
        {
          "output_type": "stream",
          "name": "stdout",
          "text": [
            "Tiempo de entrenamiento: 10.897737503051758 segundos\n"
          ]
        },
        {
          "output_type": "stream",
          "name": "stderr",
          "text": [
            "[I 2023-11-17 01:48:49,914] Trial 35 finished with value: 2290.9225947570067 and parameters: {'learning_rate': 0.08265235804322284, 'n_estimators': 872, 'max_depth': 8, 'max_leaves': 56, 'min_child_weight': 4, 'reg_alpha': 0.3564175150365861, 'reg_lambda': 0.27347970522034537, 'min_frequency': 0.06523909910599504}. Best is trial 31 with value: 2288.2664292849904.\n"
          ]
        },
        {
          "output_type": "stream",
          "name": "stdout",
          "text": [
            "Tiempo de entrenamiento: 6.979966640472412 segundos\n"
          ]
        },
        {
          "output_type": "stream",
          "name": "stderr",
          "text": [
            "[I 2023-11-17 01:49:00,812] Trial 36 finished with value: 7745.2176912764135 and parameters: {'learning_rate': 0.08220583828901774, 'n_estimators': 994, 'max_depth': 8, 'max_leaves': 56, 'min_child_weight': 3, 'reg_alpha': 0.15143670677068305, 'reg_lambda': 0.2691003786980127, 'min_frequency': 0.2262120949851515}. Best is trial 31 with value: 2288.2664292849904.\n"
          ]
        },
        {
          "output_type": "stream",
          "name": "stdout",
          "text": [
            "Tiempo de entrenamiento: 10.84165334701538 segundos\n"
          ]
        },
        {
          "output_type": "stream",
          "name": "stderr",
          "text": [
            "[I 2023-11-17 01:49:04,854] Trial 37 finished with value: 7506.548477096908 and parameters: {'learning_rate': 0.09842176521734622, 'n_estimators': 864, 'max_depth': 9, 'max_leaves': 35, 'min_child_weight': 5, 'reg_alpha': 0.3653023710535489, 'reg_lambda': 0.1953347881278978, 'min_frequency': 0.3010333126541859}. Best is trial 31 with value: 2288.2664292849904.\n"
          ]
        },
        {
          "output_type": "stream",
          "name": "stdout",
          "text": [
            "Tiempo de entrenamiento: 3.9848406314849854 segundos\n"
          ]
        },
        {
          "output_type": "stream",
          "name": "stderr",
          "text": [
            "[I 2023-11-17 01:49:14,799] Trial 38 finished with value: 6569.610087988171 and parameters: {'learning_rate': 0.07969087666769853, 'n_estimators': 787, 'max_depth': 8, 'max_leaves': 46, 'min_child_weight': 2, 'reg_alpha': 0.2519224804842978, 'reg_lambda': 0.281189064875389, 'min_frequency': 0.15995888525578533}. Best is trial 31 with value: 2288.2664292849904.\n"
          ]
        },
        {
          "output_type": "stream",
          "name": "stdout",
          "text": [
            "Tiempo de entrenamiento: 9.88615107536316 segundos\n"
          ]
        },
        {
          "output_type": "stream",
          "name": "stderr",
          "text": [
            "[I 2023-11-17 01:49:19,884] Trial 39 finished with value: 7479.765908700598 and parameters: {'learning_rate': 0.05870910707061262, 'n_estimators': 938, 'max_depth': 10, 'max_leaves': 55, 'min_child_weight': 1, 'reg_alpha': 0.19143450946251767, 'reg_lambda': 0.536764673360819, 'min_frequency': 0.21333130753084018}. Best is trial 31 with value: 2288.2664292849904.\n"
          ]
        },
        {
          "output_type": "stream",
          "name": "stdout",
          "text": [
            "Tiempo de entrenamiento: 5.027330160140991 segundos\n"
          ]
        },
        {
          "output_type": "stream",
          "name": "stderr",
          "text": [
            "[I 2023-11-17 01:49:29,186] Trial 40 finished with value: 9877.594551731865 and parameters: {'learning_rate': 0.09464555772017673, 'n_estimators': 838, 'max_depth': 7, 'max_leaves': 89, 'min_child_weight': 4, 'reg_alpha': 0.10684521887896015, 'reg_lambda': 0.36731876520401063, 'min_frequency': 0.34286633719230064}. Best is trial 31 with value: 2288.2664292849904.\n"
          ]
        },
        {
          "output_type": "stream",
          "name": "stdout",
          "text": [
            "Tiempo de entrenamiento: 9.247080564498901 segundos\n"
          ]
        },
        {
          "output_type": "stream",
          "name": "stderr",
          "text": [
            "[I 2023-11-17 01:49:36,502] Trial 41 finished with value: 2308.1878343214403 and parameters: {'learning_rate': 0.08674921353585249, 'n_estimators': 872, 'max_depth': 7, 'max_leaves': 75, 'min_child_weight': 4, 'reg_alpha': 0.45357242503853606, 'reg_lambda': 0.3081058195765789, 'min_frequency': 0.055121511704328746}. Best is trial 31 with value: 2288.2664292849904.\n"
          ]
        },
        {
          "output_type": "stream",
          "name": "stdout",
          "text": [
            "Tiempo de entrenamiento: 7.214478015899658 segundos\n"
          ]
        },
        {
          "output_type": "stream",
          "name": "stderr",
          "text": [
            "[I 2023-11-17 01:49:51,747] Trial 42 finished with value: 2278.832142538854 and parameters: {'learning_rate': 0.08597817837767156, 'n_estimators': 927, 'max_depth': 8, 'max_leaves': 68, 'min_child_weight': 4, 'reg_alpha': 0.34221694645096484, 'reg_lambda': 0.2012572486356236, 'min_frequency': 0.06664845155954803}. Best is trial 42 with value: 2278.832142538854.\n"
          ]
        },
        {
          "output_type": "stream",
          "name": "stdout",
          "text": [
            "Tiempo de entrenamiento: 15.187163352966309 segundos\n"
          ]
        },
        {
          "output_type": "stream",
          "name": "stderr",
          "text": [
            "[I 2023-11-17 01:50:03,901] Trial 43 finished with value: 6802.508970524487 and parameters: {'learning_rate': 0.0827060190564594, 'n_estimators': 957, 'max_depth': 8, 'max_leaves': 66, 'min_child_weight': 3, 'reg_alpha': 0.34160258589788056, 'reg_lambda': 0.19517851370577383, 'min_frequency': 0.14211286131174522}. Best is trial 42 with value: 2278.832142538854.\n"
          ]
        },
        {
          "output_type": "stream",
          "name": "stdout",
          "text": [
            "Tiempo de entrenamiento: 12.096218347549438 segundos\n"
          ]
        },
        {
          "output_type": "stream",
          "name": "stderr",
          "text": [
            "[I 2023-11-17 01:50:16,820] Trial 44 finished with value: 2291.282470645682 and parameters: {'learning_rate': 0.07687020334171465, 'n_estimators': 773, 'max_depth': 8, 'max_leaves': 80, 'min_child_weight': 5, 'reg_alpha': 0.2850487263457776, 'reg_lambda': 0.2563122867097883, 'min_frequency': 0.056233423264063706}. Best is trial 42 with value: 2278.832142538854.\n"
          ]
        },
        {
          "output_type": "stream",
          "name": "stdout",
          "text": [
            "Tiempo de entrenamiento: 12.864692211151123 segundos\n"
          ]
        },
        {
          "output_type": "stream",
          "name": "stderr",
          "text": [
            "[I 2023-11-17 01:50:22,768] Trial 45 finished with value: 6905.428345111866 and parameters: {'learning_rate': 0.09371677026985151, 'n_estimators': 820, 'max_depth': 9, 'max_leaves': 84, 'min_child_weight': 4, 'reg_alpha': 0.3639892190861337, 'reg_lambda': 0.20944806930087276, 'min_frequency': 0.18332536346590456}. Best is trial 42 with value: 2278.832142538854.\n"
          ]
        },
        {
          "output_type": "stream",
          "name": "stdout",
          "text": [
            "Tiempo de entrenamiento: 5.882620096206665 segundos\n"
          ]
        },
        {
          "output_type": "stream",
          "name": "stderr",
          "text": [
            "[I 2023-11-17 01:50:34,065] Trial 46 finished with value: 6740.108519447365 and parameters: {'learning_rate': 0.08590084195459638, 'n_estimators': 936, 'max_depth': 8, 'max_leaves': 50, 'min_child_weight': 4, 'reg_alpha': 0.4950228973900924, 'reg_lambda': 0.34557405721175494, 'min_frequency': 0.11492251812387266}. Best is trial 42 with value: 2278.832142538854.\n"
          ]
        },
        {
          "output_type": "stream",
          "name": "stdout",
          "text": [
            "Tiempo de entrenamiento: 11.238137483596802 segundos\n"
          ]
        },
        {
          "output_type": "stream",
          "name": "stderr",
          "text": [
            "[I 2023-11-17 01:50:41,831] Trial 47 finished with value: 2364.391142340498 and parameters: {'learning_rate': 0.08132904090979161, 'n_estimators': 731, 'max_depth': 8, 'max_leaves': 94, 'min_child_weight': 3, 'reg_alpha': 0.3947172671749263, 'reg_lambda': 0.27426241569157256, 'min_frequency': 0.046262669620218216}. Best is trial 42 with value: 2278.832142538854.\n"
          ]
        },
        {
          "output_type": "stream",
          "name": "stdout",
          "text": [
            "Tiempo de entrenamiento: 7.7071709632873535 segundos\n"
          ]
        },
        {
          "output_type": "stream",
          "name": "stderr",
          "text": [
            "[I 2023-11-17 01:50:54,633] Trial 48 finished with value: 6625.104216043389 and parameters: {'learning_rate': 0.049810956889591695, 'n_estimators': 886, 'max_depth': 9, 'max_leaves': 74, 'min_child_weight': 2, 'reg_alpha': 0.2475178119116772, 'reg_lambda': 0.17984286957638007, 'min_frequency': 0.1265029822673303}. Best is trial 42 with value: 2278.832142538854.\n"
          ]
        },
        {
          "output_type": "stream",
          "name": "stdout",
          "text": [
            "Tiempo de entrenamiento: 12.745166301727295 segundos\n",
            "Número de trials: 49\n",
            "MAE: -2278.832142538854\n",
            "Mejores hiperparámetros: {'learning_rate': 0.08597817837767156, 'n_estimators': 927, 'max_depth': 8, 'max_leaves': 68, 'min_child_weight': 4, 'reg_alpha': 0.34221694645096484, 'reg_lambda': 0.2012572486356236, 'min_frequency': 0.06664845155954803}\n"
          ]
        },
        {
          "output_type": "execute_result",
          "data": {
            "text/plain": [
              "['mejor_trial_optimizado.pkl']"
            ]
          },
          "metadata": {},
          "execution_count": 299
        }
      ]
    },
    {
      "cell_type": "markdown",
      "source": [
        "Reportar el número de trials, el MAE y los mejores hiperparámetros encontrados. ¿Cómo cambian sus resultados con respecto a la sección anterior? ¿A qué se puede deber esto?\n",
        "\n",
        "**Respuesta:**\n",
        "\n",
        "En total se realizaron 49 trials, teniendo un mejor MAE de 2278.832142538854, con los siguientes hiperparametros: \\\n",
        "\n",
        " {'learning_rate': 0.08597817837767156, 'n_estimators': 927, 'max_depth': 8, 'max_leaves': 68, 'min_child_weight': 4, 'reg_alpha': 0.34221694645096484, 'reg_lambda': 0.2012572486356236, 'min_frequency': 0.06664845155954803}\n",
        "['mejor_trial_optimizado.pkl'] \\\n",
        "\n",
        "Los resultados mejoran respecto a la sección anterior, pasando de un MAE de  2278 a uno de 2327, los resultados exhiben una mejora con respecto a la sección anterior. Este cambio se atribuye al proceso de optimización llevado a cabo por Optuna, que explora el espacio de hiperparámetros proporcionado con el objetivo de encontrar la combinación que minimice el MAE.\n",
        "\n",
        "Es importante señalar que, si no hubiera existido un límite de tiempo de 5 minutos (timeout), es posible que los resultados hubieran mejorado aún más. No obstante, la mejora observada en este intervalo de tiempo es considerable y, por lo tanto, se considera que los resultados obtenidos son preferibles en términos de eficiencia y calidad."
      ],
      "metadata": {
        "id": "DfzJ5RzhrOew"
      }
    },
    {
      "cell_type": "markdown",
      "metadata": {
        "cell_id": "5195ccfc37e044ad9453f6eb2754f631",
        "deepnote_cell_type": "markdown",
        "id": "xauZBuEqCxPa"
      },
      "source": [
        "## 1.4 Optimización de Hiperparámetros con Optuna y Prunners (1.7)\n",
        "\n",
        "<p align=\"center\">\n",
        "  <img src=\"https://i.pinimg.com/originals/90/16/f9/9016f919c2259f3d0e8fe465049638a7.gif\">\n",
        "</p>\n",
        "\n",
        "Después de optimizar el rendimiento de su modelo varias veces, Fiu le pregunta si no es posible optimizar el entrenamiento del modelo en sí mismo. Después de leer un par de post de personas de dudosa reputación en la *deepweb*, usted llega a la conclusión que puede cumplir este objetivo mediante la implementación de **Prunning**.\n",
        "\n",
        "Vuelva a optimizar los mismos hiperparámetros que la sección pasada, pero esta vez utilizando **Prunning** en la optimización. En particular, usted debe:\n",
        "\n",
        "- Responder: ¿Qué es prunning? ¿De qué forma debería impactar en el entrenamiento?\n",
        "- Utilizar `optuna.integration.XGBoostPruningCallback` como método de **Prunning**\n",
        "- Fijar nuevamente el tiempo de entrenamiento a 5 minutos\n",
        "- Reportar el número de *trials*, el `MAE` y los mejores hiperparámetros encontrados. ¿Cómo cambian sus resultados con respecto a la sección anterior? ¿A qué se puede deber esto?\n",
        "- Guardar su modelo en un archivo .pkl\n",
        "\n",
        "Nota: Si quieren silenciar los prints obtenidos en el prunning, pueden hacerlo mediante el siguiente comando:\n",
        "\n",
        "```\n",
        "optuna.logging.set_verbosity(optuna.logging.WARNING)\n",
        "```\n",
        "\n",
        "De implementar la opción anterior, pueden especificar `show_progress_bar = True` en el método `optimize` para *más sabor*.\n",
        "\n",
        "Hint: Si quieren especificar parámetros del método .fit() del modelo a través del pipeline, pueden hacerlo por medio de la siguiente sintaxis: `pipeline.fit(stepmodelo__parametro = valor)`\n",
        "\n",
        "Hint2: Este <a href = https://stackoverflow.com/questions/40329576/sklearn-pass-fit-parameters-to-xgboost-in-pipeline>enlace</a> les puede ser de ayuda en su implementación"
      ]
    },
    {
      "cell_type": "code",
      "metadata": {
        "cell_id": "eeaa967cd8f6426d8c54f276c17dce79",
        "deepnote_cell_type": "code",
        "id": "pYlEZc1dCxPa"
      },
      "source": [
        "\n",
        "\n",
        "from optuna.integration import XGBoostPruningCallback\n",
        "def objective(trial):\n",
        "    # Definir el espacio de búsqueda para XGBRegressor\n",
        "    xgb_params = {\n",
        "        'learning_rate': trial.suggest_float('learning_rate', *param_ranges['learning_rate']),\n",
        "        'n_estimators': trial.suggest_int('n_estimators', *param_ranges['n_estimators']),\n",
        "        'max_depth': trial.suggest_int('max_depth', *param_ranges['max_depth']),\n",
        "        'max_leaves': trial.suggest_int('max_leaves', *param_ranges['max_leaves']),\n",
        "        'min_child_weight': trial.suggest_int('min_child_weight', *param_ranges['min_child_weight']),\n",
        "        'reg_alpha': trial.suggest_float('reg_alpha', *param_ranges['reg_alpha']),\n",
        "        'reg_lambda': trial.suggest_float('reg_lambda', *param_ranges['reg_lambda']),\n",
        "    }\n",
        "\n",
        "    # Definir el espacio de búsqueda para OneHotEncoder\n",
        "    encoder_params = {\n",
        "        'min_frequency': trial.suggest_float('min_frequency', *encoder_ranges['min_frequency'])\n",
        "    }\n",
        "\n",
        "    # Crear el modelo con el pipeline\n",
        "\n",
        "    preprocessor = ColumnTransformer(\n",
        "        transformers=[\n",
        "            ('num', StandardScaler(), numeric_features),\n",
        "            ('cat', OneHotEncoder(min_frequency=encoder_params['min_frequency']), categorical_features)\n",
        "        ])\n",
        "\n",
        "    pipeline_xgb = Pipeline([\n",
        "    ('date_transform', date_transformer),\n",
        "    ('preprocessor', preprocessor),\n",
        "    ('regressor', XGBRegressor(**xgb_params))\n",
        "    ])\n",
        "\n",
        "    start_time = time.time()\n",
        "    pruning_callback = XGBoostPruningCallback(trial, 'validation-mae')\n",
        "\n",
        "    mae = cross_val_score(pipeline_xgb, X_train, y_train, scoring='neg_mean_absolute_error').mean()\n",
        "    elapsed_time = time.time() - start_time\n",
        "\n",
        "    # Reportar el tiempo de entrenamiento\n",
        "    print(f\"Tiempo de entrenamiento: {elapsed_time} segundos\")\n",
        "\n",
        "    # Devolver el valor negativo de la métrica para minimizar (optuna maximiza la función objetivo)\n",
        "    return -mae"
      ],
      "execution_count": null,
      "outputs": []
    },
    {
      "cell_type": "code",
      "source": [
        "sampler = optuna.samplers.TPESampler(seed=seed)\n",
        "study = optuna.create_study(direction='minimize', sampler=sampler)\n",
        "# Configurar el tiempo límite de la optimización a 5 minutos\n",
        "study.optimize(objective, n_trials=100, timeout=300, show_progress_bar = True)\n",
        "\n",
        "# Obtener los mejores hiperparámetros y su rendimiento\n",
        "best_params = study.best_params\n",
        "best_mae = -study.best_value\n",
        "num_trials = len(study.trials)\n",
        "\n",
        "print(f\"Número de trials: {num_trials}\")\n",
        "print(f\"MAE: {best_mae}\")\n",
        "print(f\"Mejores hiperparámetros: {best_params}\")\n",
        "\n",
        "# Guardar el mejor trial en un archivo .pkl\n",
        "best_trial = study.best_trial\n",
        "joblib.dump(best_trial_pruned, 'mejor_trial_optimizado_pruned.pkl')"
      ],
      "metadata": {
        "colab": {
          "base_uri": "https://localhost:8080/",
          "height": 937,
          "referenced_widgets": [
            "93c143e69d144e74a3dfe08a52ec8fef",
            "549ff5fc1b074ba8b88aae200333c28e",
            "0f73778161f64f7f98c0205190030995",
            "eb042861b700466dae591bafeba120df",
            "79a5439d313849df805d81635174805e",
            "1d8563e546d84a1aa6799fd475f54eb9",
            "837f2d6880ac4075bb08ac92879b41ba",
            "28b202447b2a4cab9ae843daf2544e6f",
            "931208d0811545f09a6c29e8ecb3e831",
            "5ddcf749812c4755b5cc837688baf9b3",
            "3f393acedd8648f8bdcde9e2f40825a5"
          ]
        },
        "id": "GPr159EGA5iZ",
        "outputId": "62fd3282-f129-41b4-b5ed-27abef3a6335"
      },
      "execution_count": null,
      "outputs": [
        {
          "output_type": "display_data",
          "data": {
            "text/plain": [
              "  0%|          | 0/100 [00:00<?, ?it/s]"
            ],
            "application/vnd.jupyter.widget-view+json": {
              "version_major": 2,
              "version_minor": 0,
              "model_id": "93c143e69d144e74a3dfe08a52ec8fef"
            }
          },
          "metadata": {}
        },
        {
          "output_type": "stream",
          "name": "stdout",
          "text": [
            "Tiempo de entrenamiento: 5.094158411026001 segundos\n",
            "Tiempo de entrenamiento: 2.101025104522705 segundos\n",
            "Tiempo de entrenamiento: 7.920328617095947 segundos\n",
            "Tiempo de entrenamiento: 2.8309621810913086 segundos\n",
            "Tiempo de entrenamiento: 11.666825294494629 segundos\n",
            "Tiempo de entrenamiento: 1.4497241973876953 segundos\n",
            "Tiempo de entrenamiento: 1.7556734085083008 segundos\n",
            "Tiempo de entrenamiento: 1.0949249267578125 segundos\n",
            "Tiempo de entrenamiento: 2.079406261444092 segundos\n",
            "Tiempo de entrenamiento: 12.568557262420654 segundos\n",
            "Tiempo de entrenamiento: 0.47782158851623535 segundos\n",
            "Tiempo de entrenamiento: 2.982039451599121 segundos\n",
            "Tiempo de entrenamiento: 2.140225410461426 segundos\n",
            "Tiempo de entrenamiento: 5.69849157333374 segundos\n",
            "Tiempo de entrenamiento: 2.2033820152282715 segundos\n",
            "Tiempo de entrenamiento: 2.1706128120422363 segundos\n",
            "Tiempo de entrenamiento: 1.7692129611968994 segundos\n",
            "Tiempo de entrenamiento: 2.1862826347351074 segundos\n",
            "Tiempo de entrenamiento: 1.1137683391571045 segundos\n",
            "Tiempo de entrenamiento: 0.9796688556671143 segundos\n",
            "Tiempo de entrenamiento: 7.571979284286499 segundos\n",
            "Tiempo de entrenamiento: 1.627901554107666 segundos\n",
            "Tiempo de entrenamiento: 2.1313557624816895 segundos\n",
            "Tiempo de entrenamiento: 2.762132406234741 segundos\n",
            "Tiempo de entrenamiento: 9.757779121398926 segundos\n",
            "Tiempo de entrenamiento: 3.627033233642578 segundos\n",
            "Tiempo de entrenamiento: 14.285405397415161 segundos\n",
            "Tiempo de entrenamiento: 12.531481504440308 segundos\n",
            "Tiempo de entrenamiento: 6.273615837097168 segundos\n",
            "Tiempo de entrenamiento: 10.029935359954834 segundos\n",
            "Tiempo de entrenamiento: 5.0941197872161865 segundos\n",
            "Tiempo de entrenamiento: 13.441121816635132 segundos\n",
            "Tiempo de entrenamiento: 13.35469937324524 segundos\n",
            "Tiempo de entrenamiento: 5.152315616607666 segundos\n",
            "Tiempo de entrenamiento: 11.54816484451294 segundos\n",
            "Tiempo de entrenamiento: 13.429409265518188 segundos\n",
            "Tiempo de entrenamiento: 5.822115182876587 segundos\n",
            "Tiempo de entrenamiento: 9.763223648071289 segundos\n",
            "Tiempo de entrenamiento: 4.664403438568115 segundos\n",
            "Tiempo de entrenamiento: 5.283880710601807 segundos\n",
            "Tiempo de entrenamiento: 9.667903184890747 segundos\n",
            "Tiempo de entrenamiento: 12.832898378372192 segundos\n",
            "Tiempo de entrenamiento: 9.622769594192505 segundos\n",
            "Tiempo de entrenamiento: 13.026873111724854 segundos\n",
            "Tiempo de entrenamiento: 15.227211952209473 segundos\n",
            "Tiempo de entrenamiento: 13.255195379257202 segundos\n",
            "Número de trials: 46\n",
            "MAE: -2278.832142538854\n",
            "Mejores hiperparámetros: {'learning_rate': 0.08597817837767156, 'n_estimators': 927, 'max_depth': 8, 'max_leaves': 68, 'min_child_weight': 4, 'reg_alpha': 0.34221694645096484, 'reg_lambda': 0.2012572486356236, 'min_frequency': 0.06664845155954803}\n"
          ]
        },
        {
          "output_type": "execute_result",
          "data": {
            "text/plain": [
              "['mejor_trial_optimizado.pkl']"
            ]
          },
          "metadata": {},
          "execution_count": 314
        }
      ]
    },
    {
      "cell_type": "markdown",
      "source": [
        "Respecto a los resultados obtenidos en esta iteracion de optimizacion con optuna. Se obtiene un MAE sumamente parecido al anterior, esto corresponde a lo esperable de un algoritmo de pruning si es que el experimento anterior llego a tener un buen resultado por chance de no seguir las ramas poco eficientes. En general un algoritmo de pruning permite una optimizacion mucho mas rapida debido a que corta las ramas con malos resultados tempranamente.\n",
        "\n",
        "De lo anterior se puede decir que el experimento realizado tuvo un buen desempepeño debido a chance y llego a ser casi tan bueno como lo obtenido con pruning. Pero en general se obtienen resultados mucho mas consistentes con pruning."
      ],
      "metadata": {
        "id": "NeVQxxMMsAey"
      }
    },
    {
      "cell_type": "markdown",
      "metadata": {
        "cell_id": "8a081778cc704fc6bed05393a5419327",
        "deepnote_cell_type": "markdown",
        "id": "nnOz8TGqCxPa"
      },
      "source": [
        "## 1.5 Visualizaciones (0.5 puntos)\n",
        "\n",
        "<p align=\"center\">\n",
        "  <img src=\"https://media.tenor.com/F-LgB1xTebEAAAAd/look-at-this-graph-nickelback.gif\">\n",
        "</p>\n",
        "\n",
        "\n",
        "Satisfecho con su trabajo, Fiu le pregunta si es posible generar visualizaciones que permitan entender el entrenamiento de su modelo.\n",
        "\n",
        "A partir del siguiente <a href = https://optuna.readthedocs.io/en/stable/tutorial/10_key_features/005_visualization.html#visualization>enlace</a>, genere las siguientes visualizaciones:\n",
        "\n",
        "- Gráfico de historial de optimización\n",
        "- Gráfico de coordenadas paralelas\n",
        "- Gráfico de importancia de hiperparámetros\n",
        "\n",
        "Comente sus resultados: ¿Desde qué *trial* se empiezan a observar mejoras notables en sus resultados? ¿Qué tendencias puede observar a partir del gráfico de coordenadas paralelas? ¿Cuáles son los hiperparámetros con mayor importancia para la optimización de su modelo?"
      ]
    },
    {
      "cell_type": "code",
      "source": [
        "from optuna.visualization import plot_optimization_history, plot_parallel_coordinate, plot_param_importances"
      ],
      "metadata": {
        "id": "L9VFrTTJHWO_"
      },
      "execution_count": null,
      "outputs": []
    },
    {
      "cell_type": "code",
      "metadata": {
        "cell_id": "0e706dc9a8d946eda7a9eb1f0463c6d7",
        "deepnote_cell_type": "code",
        "colab": {
          "base_uri": "https://localhost:8080/",
          "height": 542
        },
        "id": "N7ccxNcmCxPa",
        "outputId": "2bddedae-42ff-4ba3-f700-d7c107ce4324"
      },
      "source": [
        "plot_optimization_history(study)"
      ],
      "execution_count": null,
      "outputs": [
        {
          "output_type": "display_data",
          "data": {
            "text/html": [
              "<html>\n",
              "<head><meta charset=\"utf-8\" /></head>\n",
              "<body>\n",
              "    <div>            <script src=\"https://cdnjs.cloudflare.com/ajax/libs/mathjax/2.7.5/MathJax.js?config=TeX-AMS-MML_SVG\"></script><script type=\"text/javascript\">if (window.MathJax && window.MathJax.Hub && window.MathJax.Hub.Config) {window.MathJax.Hub.Config({SVG: {font: \"STIX-Web\"}});}</script>                <script type=\"text/javascript\">window.PlotlyConfig = {MathJaxConfig: 'local'};</script>\n",
              "        <script charset=\"utf-8\" src=\"https://cdn.plot.ly/plotly-2.24.1.min.js\"></script>                <div id=\"f35cf9aa-1490-4657-b65f-1545d1d996d8\" class=\"plotly-graph-div\" style=\"height:525px; width:100%;\"></div>            <script type=\"text/javascript\">                                    window.PLOTLYENV=window.PLOTLYENV || {};                                    if (document.getElementById(\"f35cf9aa-1490-4657-b65f-1545d1d996d8\")) {                    Plotly.newPlot(                        \"f35cf9aa-1490-4657-b65f-1545d1d996d8\",                        [{\"mode\":\"markers\",\"name\":\"Objective Value\",\"x\":[0,1,2,3,4,5,6,7,8,9,10,11,12,13,14,15,16,17,18,19,20,21,22,23,24,25,26,27,28,29,30,31,32,33,34,35,36,37,38,39,40,41],\"y\":[9726.548342972827,5971.39114343281,8852.264057870689,5976.310572955639,8886.79558521244,8615.761465735046,9089.247224937677,9099.488016267878,6108.311240907414,7656.7516644020725,13560.446601880485,6408.614660314315,3189.4174313049543,13560.446601880485,3275.7876266837093,2703.9501278365433,6794.840794391045,5985.73052767868,8863.63725604269,5881.872775092314,6928.489964398372,3305.791358282417,2905.6200544862886,6086.803484643049,2386.183851129785,6548.402109803358,2291.073688536656,6886.443877810429,2288.8684083224944,9767.689512980496,7693.700655368957,2288.2664292849904,2307.842962732245,6719.965127316475,6818.640985894645,2290.9225947570067,7745.2176912764135,7506.548477096908,6569.610087988171,7479.765908700598,9877.594551731865,2308.1878343214403],\"type\":\"scatter\"},{\"mode\":\"lines\",\"name\":\"Best Value\",\"x\":[0,1,2,3,4,5,6,7,8,9,10,11,12,13,14,15,16,17,18,19,20,21,22,23,24,25,26,27,28,29,30,31,32,33,34,35,36,37,38,39,40,41],\"y\":[9726.548342972827,5971.39114343281,5971.39114343281,5971.39114343281,5971.39114343281,5971.39114343281,5971.39114343281,5971.39114343281,5971.39114343281,5971.39114343281,5971.39114343281,5971.39114343281,3189.4174313049543,3189.4174313049543,3189.4174313049543,2703.9501278365433,2703.9501278365433,2703.9501278365433,2703.9501278365433,2703.9501278365433,2703.9501278365433,2703.9501278365433,2703.9501278365433,2703.9501278365433,2386.183851129785,2386.183851129785,2291.073688536656,2291.073688536656,2288.8684083224944,2288.8684083224944,2288.8684083224944,2288.2664292849904,2288.2664292849904,2288.2664292849904,2288.2664292849904,2288.2664292849904,2288.2664292849904,2288.2664292849904,2288.2664292849904,2288.2664292849904,2288.2664292849904,2288.2664292849904],\"type\":\"scatter\"},{\"marker\":{\"color\":\"#cccccc\"},\"mode\":\"markers\",\"name\":\"Infeasible Trial\",\"showlegend\":false,\"x\":[],\"y\":[],\"type\":\"scatter\"}],                        {\"title\":{\"text\":\"Optimization History Plot\"},\"xaxis\":{\"title\":{\"text\":\"Trial\"}},\"yaxis\":{\"title\":{\"text\":\"Objective Value\"}},\"template\":{\"data\":{\"histogram2dcontour\":[{\"type\":\"histogram2dcontour\",\"colorbar\":{\"outlinewidth\":0,\"ticks\":\"\"},\"colorscale\":[[0.0,\"#0d0887\"],[0.1111111111111111,\"#46039f\"],[0.2222222222222222,\"#7201a8\"],[0.3333333333333333,\"#9c179e\"],[0.4444444444444444,\"#bd3786\"],[0.5555555555555556,\"#d8576b\"],[0.6666666666666666,\"#ed7953\"],[0.7777777777777778,\"#fb9f3a\"],[0.8888888888888888,\"#fdca26\"],[1.0,\"#f0f921\"]]}],\"choropleth\":[{\"type\":\"choropleth\",\"colorbar\":{\"outlinewidth\":0,\"ticks\":\"\"}}],\"histogram2d\":[{\"type\":\"histogram2d\",\"colorbar\":{\"outlinewidth\":0,\"ticks\":\"\"},\"colorscale\":[[0.0,\"#0d0887\"],[0.1111111111111111,\"#46039f\"],[0.2222222222222222,\"#7201a8\"],[0.3333333333333333,\"#9c179e\"],[0.4444444444444444,\"#bd3786\"],[0.5555555555555556,\"#d8576b\"],[0.6666666666666666,\"#ed7953\"],[0.7777777777777778,\"#fb9f3a\"],[0.8888888888888888,\"#fdca26\"],[1.0,\"#f0f921\"]]}],\"heatmap\":[{\"type\":\"heatmap\",\"colorbar\":{\"outlinewidth\":0,\"ticks\":\"\"},\"colorscale\":[[0.0,\"#0d0887\"],[0.1111111111111111,\"#46039f\"],[0.2222222222222222,\"#7201a8\"],[0.3333333333333333,\"#9c179e\"],[0.4444444444444444,\"#bd3786\"],[0.5555555555555556,\"#d8576b\"],[0.6666666666666666,\"#ed7953\"],[0.7777777777777778,\"#fb9f3a\"],[0.8888888888888888,\"#fdca26\"],[1.0,\"#f0f921\"]]}],\"heatmapgl\":[{\"type\":\"heatmapgl\",\"colorbar\":{\"outlinewidth\":0,\"ticks\":\"\"},\"colorscale\":[[0.0,\"#0d0887\"],[0.1111111111111111,\"#46039f\"],[0.2222222222222222,\"#7201a8\"],[0.3333333333333333,\"#9c179e\"],[0.4444444444444444,\"#bd3786\"],[0.5555555555555556,\"#d8576b\"],[0.6666666666666666,\"#ed7953\"],[0.7777777777777778,\"#fb9f3a\"],[0.8888888888888888,\"#fdca26\"],[1.0,\"#f0f921\"]]}],\"contourcarpet\":[{\"type\":\"contourcarpet\",\"colorbar\":{\"outlinewidth\":0,\"ticks\":\"\"}}],\"contour\":[{\"type\":\"contour\",\"colorbar\":{\"outlinewidth\":0,\"ticks\":\"\"},\"colorscale\":[[0.0,\"#0d0887\"],[0.1111111111111111,\"#46039f\"],[0.2222222222222222,\"#7201a8\"],[0.3333333333333333,\"#9c179e\"],[0.4444444444444444,\"#bd3786\"],[0.5555555555555556,\"#d8576b\"],[0.6666666666666666,\"#ed7953\"],[0.7777777777777778,\"#fb9f3a\"],[0.8888888888888888,\"#fdca26\"],[1.0,\"#f0f921\"]]}],\"surface\":[{\"type\":\"surface\",\"colorbar\":{\"outlinewidth\":0,\"ticks\":\"\"},\"colorscale\":[[0.0,\"#0d0887\"],[0.1111111111111111,\"#46039f\"],[0.2222222222222222,\"#7201a8\"],[0.3333333333333333,\"#9c179e\"],[0.4444444444444444,\"#bd3786\"],[0.5555555555555556,\"#d8576b\"],[0.6666666666666666,\"#ed7953\"],[0.7777777777777778,\"#fb9f3a\"],[0.8888888888888888,\"#fdca26\"],[1.0,\"#f0f921\"]]}],\"mesh3d\":[{\"type\":\"mesh3d\",\"colorbar\":{\"outlinewidth\":0,\"ticks\":\"\"}}],\"scatter\":[{\"fillpattern\":{\"fillmode\":\"overlay\",\"size\":10,\"solidity\":0.2},\"type\":\"scatter\"}],\"parcoords\":[{\"type\":\"parcoords\",\"line\":{\"colorbar\":{\"outlinewidth\":0,\"ticks\":\"\"}}}],\"scatterpolargl\":[{\"type\":\"scatterpolargl\",\"marker\":{\"colorbar\":{\"outlinewidth\":0,\"ticks\":\"\"}}}],\"bar\":[{\"error_x\":{\"color\":\"#2a3f5f\"},\"error_y\":{\"color\":\"#2a3f5f\"},\"marker\":{\"line\":{\"color\":\"#E5ECF6\",\"width\":0.5},\"pattern\":{\"fillmode\":\"overlay\",\"size\":10,\"solidity\":0.2}},\"type\":\"bar\"}],\"scattergeo\":[{\"type\":\"scattergeo\",\"marker\":{\"colorbar\":{\"outlinewidth\":0,\"ticks\":\"\"}}}],\"scatterpolar\":[{\"type\":\"scatterpolar\",\"marker\":{\"colorbar\":{\"outlinewidth\":0,\"ticks\":\"\"}}}],\"histogram\":[{\"marker\":{\"pattern\":{\"fillmode\":\"overlay\",\"size\":10,\"solidity\":0.2}},\"type\":\"histogram\"}],\"scattergl\":[{\"type\":\"scattergl\",\"marker\":{\"colorbar\":{\"outlinewidth\":0,\"ticks\":\"\"}}}],\"scatter3d\":[{\"type\":\"scatter3d\",\"line\":{\"colorbar\":{\"outlinewidth\":0,\"ticks\":\"\"}},\"marker\":{\"colorbar\":{\"outlinewidth\":0,\"ticks\":\"\"}}}],\"scattermapbox\":[{\"type\":\"scattermapbox\",\"marker\":{\"colorbar\":{\"outlinewidth\":0,\"ticks\":\"\"}}}],\"scatterternary\":[{\"type\":\"scatterternary\",\"marker\":{\"colorbar\":{\"outlinewidth\":0,\"ticks\":\"\"}}}],\"scattercarpet\":[{\"type\":\"scattercarpet\",\"marker\":{\"colorbar\":{\"outlinewidth\":0,\"ticks\":\"\"}}}],\"carpet\":[{\"aaxis\":{\"endlinecolor\":\"#2a3f5f\",\"gridcolor\":\"white\",\"linecolor\":\"white\",\"minorgridcolor\":\"white\",\"startlinecolor\":\"#2a3f5f\"},\"baxis\":{\"endlinecolor\":\"#2a3f5f\",\"gridcolor\":\"white\",\"linecolor\":\"white\",\"minorgridcolor\":\"white\",\"startlinecolor\":\"#2a3f5f\"},\"type\":\"carpet\"}],\"table\":[{\"cells\":{\"fill\":{\"color\":\"#EBF0F8\"},\"line\":{\"color\":\"white\"}},\"header\":{\"fill\":{\"color\":\"#C8D4E3\"},\"line\":{\"color\":\"white\"}},\"type\":\"table\"}],\"barpolar\":[{\"marker\":{\"line\":{\"color\":\"#E5ECF6\",\"width\":0.5},\"pattern\":{\"fillmode\":\"overlay\",\"size\":10,\"solidity\":0.2}},\"type\":\"barpolar\"}],\"pie\":[{\"automargin\":true,\"type\":\"pie\"}]},\"layout\":{\"autotypenumbers\":\"strict\",\"colorway\":[\"#636efa\",\"#EF553B\",\"#00cc96\",\"#ab63fa\",\"#FFA15A\",\"#19d3f3\",\"#FF6692\",\"#B6E880\",\"#FF97FF\",\"#FECB52\"],\"font\":{\"color\":\"#2a3f5f\"},\"hovermode\":\"closest\",\"hoverlabel\":{\"align\":\"left\"},\"paper_bgcolor\":\"white\",\"plot_bgcolor\":\"#E5ECF6\",\"polar\":{\"bgcolor\":\"#E5ECF6\",\"angularaxis\":{\"gridcolor\":\"white\",\"linecolor\":\"white\",\"ticks\":\"\"},\"radialaxis\":{\"gridcolor\":\"white\",\"linecolor\":\"white\",\"ticks\":\"\"}},\"ternary\":{\"bgcolor\":\"#E5ECF6\",\"aaxis\":{\"gridcolor\":\"white\",\"linecolor\":\"white\",\"ticks\":\"\"},\"baxis\":{\"gridcolor\":\"white\",\"linecolor\":\"white\",\"ticks\":\"\"},\"caxis\":{\"gridcolor\":\"white\",\"linecolor\":\"white\",\"ticks\":\"\"}},\"coloraxis\":{\"colorbar\":{\"outlinewidth\":0,\"ticks\":\"\"}},\"colorscale\":{\"sequential\":[[0.0,\"#0d0887\"],[0.1111111111111111,\"#46039f\"],[0.2222222222222222,\"#7201a8\"],[0.3333333333333333,\"#9c179e\"],[0.4444444444444444,\"#bd3786\"],[0.5555555555555556,\"#d8576b\"],[0.6666666666666666,\"#ed7953\"],[0.7777777777777778,\"#fb9f3a\"],[0.8888888888888888,\"#fdca26\"],[1.0,\"#f0f921\"]],\"sequentialminus\":[[0.0,\"#0d0887\"],[0.1111111111111111,\"#46039f\"],[0.2222222222222222,\"#7201a8\"],[0.3333333333333333,\"#9c179e\"],[0.4444444444444444,\"#bd3786\"],[0.5555555555555556,\"#d8576b\"],[0.6666666666666666,\"#ed7953\"],[0.7777777777777778,\"#fb9f3a\"],[0.8888888888888888,\"#fdca26\"],[1.0,\"#f0f921\"]],\"diverging\":[[0,\"#8e0152\"],[0.1,\"#c51b7d\"],[0.2,\"#de77ae\"],[0.3,\"#f1b6da\"],[0.4,\"#fde0ef\"],[0.5,\"#f7f7f7\"],[0.6,\"#e6f5d0\"],[0.7,\"#b8e186\"],[0.8,\"#7fbc41\"],[0.9,\"#4d9221\"],[1,\"#276419\"]]},\"xaxis\":{\"gridcolor\":\"white\",\"linecolor\":\"white\",\"ticks\":\"\",\"title\":{\"standoff\":15},\"zerolinecolor\":\"white\",\"automargin\":true,\"zerolinewidth\":2},\"yaxis\":{\"gridcolor\":\"white\",\"linecolor\":\"white\",\"ticks\":\"\",\"title\":{\"standoff\":15},\"zerolinecolor\":\"white\",\"automargin\":true,\"zerolinewidth\":2},\"scene\":{\"xaxis\":{\"backgroundcolor\":\"#E5ECF6\",\"gridcolor\":\"white\",\"linecolor\":\"white\",\"showbackground\":true,\"ticks\":\"\",\"zerolinecolor\":\"white\",\"gridwidth\":2},\"yaxis\":{\"backgroundcolor\":\"#E5ECF6\",\"gridcolor\":\"white\",\"linecolor\":\"white\",\"showbackground\":true,\"ticks\":\"\",\"zerolinecolor\":\"white\",\"gridwidth\":2},\"zaxis\":{\"backgroundcolor\":\"#E5ECF6\",\"gridcolor\":\"white\",\"linecolor\":\"white\",\"showbackground\":true,\"ticks\":\"\",\"zerolinecolor\":\"white\",\"gridwidth\":2}},\"shapedefaults\":{\"line\":{\"color\":\"#2a3f5f\"}},\"annotationdefaults\":{\"arrowcolor\":\"#2a3f5f\",\"arrowhead\":0,\"arrowwidth\":1},\"geo\":{\"bgcolor\":\"white\",\"landcolor\":\"#E5ECF6\",\"subunitcolor\":\"white\",\"showland\":true,\"showlakes\":true,\"lakecolor\":\"white\"},\"title\":{\"x\":0.05},\"mapbox\":{\"style\":\"light\"}}}},                        {\"responsive\": true}                    ).then(function(){\n",
              "                            \n",
              "var gd = document.getElementById('f35cf9aa-1490-4657-b65f-1545d1d996d8');\n",
              "var x = new MutationObserver(function (mutations, observer) {{\n",
              "        var display = window.getComputedStyle(gd).display;\n",
              "        if (!display || display === 'none') {{\n",
              "            console.log([gd, 'removed!']);\n",
              "            Plotly.purge(gd);\n",
              "            observer.disconnect();\n",
              "        }}\n",
              "}});\n",
              "\n",
              "// Listen for the removal of the full notebook cells\n",
              "var notebookContainer = gd.closest('#notebook-container');\n",
              "if (notebookContainer) {{\n",
              "    x.observe(notebookContainer, {childList: true});\n",
              "}}\n",
              "\n",
              "// Listen for the clearing of the current output cell\n",
              "var outputEl = gd.closest('.output');\n",
              "if (outputEl) {{\n",
              "    x.observe(outputEl, {childList: true});\n",
              "}}\n",
              "\n",
              "                        })                };                            </script>        </div>\n",
              "</body>\n",
              "</html>"
            ]
          },
          "metadata": {}
        }
      ]
    },
    {
      "cell_type": "markdown",
      "source": [
        "Del Grafico de optimización es posible notar que los mejores resultados se obtienen de forma mucho mas consistente desde el trial numero 12. Anterior a este las mejoras se ajustan bastante abruptamente, pero posterior al trial 12 se obtienen los resultados que son mucho mas cercanos al optimo final."
      ],
      "metadata": {
        "id": "tc9J7jo1tQPu"
      }
    },
    {
      "cell_type": "code",
      "source": [
        "plot_parallel_coordinate(study)"
      ],
      "metadata": {
        "colab": {
          "base_uri": "https://localhost:8080/",
          "height": 542
        },
        "id": "HQs9cZ8nGRFS",
        "outputId": "2e157faf-ca8a-4c97-b076-d0f1fd045142"
      },
      "execution_count": null,
      "outputs": [
        {
          "output_type": "display_data",
          "data": {
            "text/html": [
              "<html>\n",
              "<head><meta charset=\"utf-8\" /></head>\n",
              "<body>\n",
              "    <div>            <script src=\"https://cdnjs.cloudflare.com/ajax/libs/mathjax/2.7.5/MathJax.js?config=TeX-AMS-MML_SVG\"></script><script type=\"text/javascript\">if (window.MathJax && window.MathJax.Hub && window.MathJax.Hub.Config) {window.MathJax.Hub.Config({SVG: {font: \"STIX-Web\"}});}</script>                <script type=\"text/javascript\">window.PlotlyConfig = {MathJaxConfig: 'local'};</script>\n",
              "        <script charset=\"utf-8\" src=\"https://cdn.plot.ly/plotly-2.24.1.min.js\"></script>                <div id=\"34a8c821-6ed6-4281-83ab-1d98acac1b3f\" class=\"plotly-graph-div\" style=\"height:525px; width:100%;\"></div>            <script type=\"text/javascript\">                                    window.PLOTLYENV=window.PLOTLYENV || {};                                    if (document.getElementById(\"34a8c821-6ed6-4281-83ab-1d98acac1b3f\")) {                    Plotly.newPlot(                        \"34a8c821-6ed6-4281-83ab-1d98acac1b3f\",                        [{\"dimensions\":[{\"label\":\"Objective Value\",\"range\":[2288.2664292849904,13560.446601880485],\"values\":[9726.548342972827,5971.39114343281,8852.264057870689,5976.310572955639,8886.79558521244,8615.761465735046,9089.247224937677,9099.488016267878,6108.311240907414,7656.7516644020725,13560.446601880485,6408.614660314315,3189.4174313049543,13560.446601880485,3275.7876266837093,2703.9501278365433,6794.840794391045,5985.73052767868,8863.63725604269,5881.872775092314,6928.489964398372,3305.791358282417,2905.6200544862886,6086.803484643049,2386.183851129785,6548.402109803358,2291.073688536656,6886.443877810429,2288.8684083224944,9767.689512980496,7693.700655368957,2288.2664292849904,2307.842962732245,6719.965127316475,6818.640985894645,2290.9225947570067,7745.2176912764135,7506.548477096908,6569.610087988171,7479.765908700598,9877.594551731865,2308.1878343214403]},{\"label\":\"learning_rate\",\"range\":[0.0015466895952366377,0.09993005423129347],\"values\":[0.03807947176588889,0.06051038616257767,0.03111998205299424,0.04615092843748656,0.0074401077055426725,0.013081785249633104,0.05512431765498469,0.00976075770314003,0.028812516459050697,0.0015466895952366377,0.08024714498228255,0.06306148084575021,0.06996077200878173,0.09716037926467166,0.06529886845926859,0.07109297454060096,0.07717226466966207,0.07462376027613872,0.09186746725391509,0.0875489461264603,0.0704994445692103,0.06530458807652613,0.08375682953002592,0.08326318652496563,0.07375445260797374,0.09993005423129347,0.08643321934513165,0.09009366547944761,0.07755100419882568,0.0778439478491307,0.09448893019517805,0.08637102405687036,0.08816345786593886,0.08708322330824068,0.0919836407443411,0.08265235804322284,0.08220583828901774,0.09842176521734622,0.07969087666769853,0.05870910707061262,0.09464555772017673,0.08674921353585249]},{\"label\":\"max_depth\",\"range\":[3,10],\"values\":[8,3,6,4,10,3,10,3,4,8,6,5,4,4,3,5,5,7,5,7,5,4,3,4,6,6,8,9,8,8,9,7,7,7,9,8,8,9,8,10,7,7]},{\"label\":\"max_leaves\",\"range\":[1,99],\"values\":[60,97,29,51,81,91,78,32,81,73,1,44,6,1,99,19,16,17,15,25,40,9,62,63,62,56,67,69,42,42,51,68,71,87,69,56,56,35,46,55,89,75]},{\"label\":\"min_child_weight\",\"range\":[1,5],\"values\":[1,5,4,3,2,2,5,2,1,4,5,3,4,4,5,4,4,3,4,4,3,5,5,5,4,4,5,3,4,5,3,4,4,5,4,4,3,5,2,1,4,4]},{\"label\":\"min_frequency\",\"range\":[0.00023830758896180087,0.9218742350231168],\"values\":[0.8661761457749352,0.18340450985343382,0.3663618432936917,0.17052412368729153,0.4401524937396013,0.5200680211778108,0.9218742350231168,0.3567533266935893,0.1987156815341724,0.11586905952512971,0.012307547750103565,0.19949541921688124,0.04895637317151069,0.002787227938632564,0.001927953997670942,0.00241599815061905,0.27504063681238394,0.09268205927215767,0.589537449893698,0.09017405294742764,0.25458466695512055,0.05065016278216242,0.00023830758896180087,0.10727208592748333,0.07993199306408215,0.12022289464728575,0.006227558037883557,0.13714712417640718,0.0732000386207095,0.663307664496384,0.26052070813969297,0.0677618310089884,0.0756346976457898,0.17314278060752308,0.156315303524714,0.06523909910599504,0.2262120949851515,0.3010333126541859,0.15995888525578533,0.21333130753084018,0.34286633719230064,0.055121511704328746]},{\"label\":\"n_estimators\",\"range\":[55,994],\"values\":[954,723,549,796,952,520,225,236,566,825,55,731,714,632,400,392,384,413,296,113,480,369,638,687,634,612,867,847,885,978,896,918,905,918,767,872,994,864,787,938,838,872]},{\"label\":\"reg_alpha\",\"range\":[0.031502239667032306,0.9868869366005173],\"values\":[0.15599452033620265,0.21233911067827616,0.13949386065204183,0.046450412719997725,0.09767211400638387,0.662522284353982,0.8948273504276488,0.2713490317738959,0.9868869366005173,0.07404465173409036,0.38029296025181053,0.031502239667032306,0.31841028970708946,0.3909577911411604,0.5164077923393884,0.5999571082290116,0.5995018382569195,0.7071944785663509,0.32033973525791665,0.4721225751760479,0.23150662050808882,0.5224682870256093,0.4702793730780852,0.4303757922593826,0.3107075940011361,0.5753434809618435,0.434218358336705,0.3533028776873427,0.41188248330550925,0.20549172714422656,0.282224294857474,0.4216902629736669,0.42104805125037503,0.42498010492920596,0.40734686496869793,0.3564175150365861,0.15143670677068305,0.3653023710535489,0.2519224804842978,0.19143450946251767,0.10684521887896015,0.45357242503853606]},{\"label\":\"reg_lambda\",\"range\":[0.0026455842277246927,0.9597707459454197],\"values\":[0.05808361216819946,0.18182496720710062,0.29214464853521815,0.6075448519014384,0.6842330265121569,0.31171107608941095,0.5978999788110851,0.8287375091519293,0.7722447692966574,0.3584657285442726,0.9597707459454197,0.4818963296633295,0.10891102882347022,0.0026455842277246927,0.13881283755258755,0.10364983884639589,0.1639523781014126,0.013179214380923399,0.4203008440715582,0.2380380003862027,0.10515056915518443,0.15676436557092316,0.1264326356149058,0.23018366596397816,0.08780838003360816,0.07188055566829006,0.24108659990613218,0.2351089552636408,0.35363447013242266,0.36962337536074896,0.45229190338516867,0.2942009522692629,0.31516082684965663,0.319633992845119,0.4183208184624338,0.27347970522034537,0.2691003786980127,0.1953347881278978,0.281189064875389,0.536764673360819,0.36731876520401063,0.3081058195765789]}],\"labelangle\":30,\"labelside\":\"bottom\",\"line\":{\"color\":[9726.548342972827,5971.39114343281,8852.264057870689,5976.310572955639,8886.79558521244,8615.761465735046,9089.247224937677,9099.488016267878,6108.311240907414,7656.7516644020725,13560.446601880485,6408.614660314315,3189.4174313049543,13560.446601880485,3275.7876266837093,2703.9501278365433,6794.840794391045,5985.73052767868,8863.63725604269,5881.872775092314,6928.489964398372,3305.791358282417,2905.6200544862886,6086.803484643049,2386.183851129785,6548.402109803358,2291.073688536656,6886.443877810429,2288.8684083224944,9767.689512980496,7693.700655368957,2288.2664292849904,2307.842962732245,6719.965127316475,6818.640985894645,2290.9225947570067,7745.2176912764135,7506.548477096908,6569.610087988171,7479.765908700598,9877.594551731865,2308.1878343214403],\"colorbar\":{\"title\":{\"text\":\"Objective Value\"}},\"colorscale\":[[0.0,\"rgb(247,251,255)\"],[0.125,\"rgb(222,235,247)\"],[0.25,\"rgb(198,219,239)\"],[0.375,\"rgb(158,202,225)\"],[0.5,\"rgb(107,174,214)\"],[0.625,\"rgb(66,146,198)\"],[0.75,\"rgb(33,113,181)\"],[0.875,\"rgb(8,81,156)\"],[1.0,\"rgb(8,48,107)\"]],\"reversescale\":true,\"showscale\":true},\"type\":\"parcoords\"}],                        {\"title\":{\"text\":\"Parallel Coordinate Plot\"},\"template\":{\"data\":{\"histogram2dcontour\":[{\"type\":\"histogram2dcontour\",\"colorbar\":{\"outlinewidth\":0,\"ticks\":\"\"},\"colorscale\":[[0.0,\"#0d0887\"],[0.1111111111111111,\"#46039f\"],[0.2222222222222222,\"#7201a8\"],[0.3333333333333333,\"#9c179e\"],[0.4444444444444444,\"#bd3786\"],[0.5555555555555556,\"#d8576b\"],[0.6666666666666666,\"#ed7953\"],[0.7777777777777778,\"#fb9f3a\"],[0.8888888888888888,\"#fdca26\"],[1.0,\"#f0f921\"]]}],\"choropleth\":[{\"type\":\"choropleth\",\"colorbar\":{\"outlinewidth\":0,\"ticks\":\"\"}}],\"histogram2d\":[{\"type\":\"histogram2d\",\"colorbar\":{\"outlinewidth\":0,\"ticks\":\"\"},\"colorscale\":[[0.0,\"#0d0887\"],[0.1111111111111111,\"#46039f\"],[0.2222222222222222,\"#7201a8\"],[0.3333333333333333,\"#9c179e\"],[0.4444444444444444,\"#bd3786\"],[0.5555555555555556,\"#d8576b\"],[0.6666666666666666,\"#ed7953\"],[0.7777777777777778,\"#fb9f3a\"],[0.8888888888888888,\"#fdca26\"],[1.0,\"#f0f921\"]]}],\"heatmap\":[{\"type\":\"heatmap\",\"colorbar\":{\"outlinewidth\":0,\"ticks\":\"\"},\"colorscale\":[[0.0,\"#0d0887\"],[0.1111111111111111,\"#46039f\"],[0.2222222222222222,\"#7201a8\"],[0.3333333333333333,\"#9c179e\"],[0.4444444444444444,\"#bd3786\"],[0.5555555555555556,\"#d8576b\"],[0.6666666666666666,\"#ed7953\"],[0.7777777777777778,\"#fb9f3a\"],[0.8888888888888888,\"#fdca26\"],[1.0,\"#f0f921\"]]}],\"heatmapgl\":[{\"type\":\"heatmapgl\",\"colorbar\":{\"outlinewidth\":0,\"ticks\":\"\"},\"colorscale\":[[0.0,\"#0d0887\"],[0.1111111111111111,\"#46039f\"],[0.2222222222222222,\"#7201a8\"],[0.3333333333333333,\"#9c179e\"],[0.4444444444444444,\"#bd3786\"],[0.5555555555555556,\"#d8576b\"],[0.6666666666666666,\"#ed7953\"],[0.7777777777777778,\"#fb9f3a\"],[0.8888888888888888,\"#fdca26\"],[1.0,\"#f0f921\"]]}],\"contourcarpet\":[{\"type\":\"contourcarpet\",\"colorbar\":{\"outlinewidth\":0,\"ticks\":\"\"}}],\"contour\":[{\"type\":\"contour\",\"colorbar\":{\"outlinewidth\":0,\"ticks\":\"\"},\"colorscale\":[[0.0,\"#0d0887\"],[0.1111111111111111,\"#46039f\"],[0.2222222222222222,\"#7201a8\"],[0.3333333333333333,\"#9c179e\"],[0.4444444444444444,\"#bd3786\"],[0.5555555555555556,\"#d8576b\"],[0.6666666666666666,\"#ed7953\"],[0.7777777777777778,\"#fb9f3a\"],[0.8888888888888888,\"#fdca26\"],[1.0,\"#f0f921\"]]}],\"surface\":[{\"type\":\"surface\",\"colorbar\":{\"outlinewidth\":0,\"ticks\":\"\"},\"colorscale\":[[0.0,\"#0d0887\"],[0.1111111111111111,\"#46039f\"],[0.2222222222222222,\"#7201a8\"],[0.3333333333333333,\"#9c179e\"],[0.4444444444444444,\"#bd3786\"],[0.5555555555555556,\"#d8576b\"],[0.6666666666666666,\"#ed7953\"],[0.7777777777777778,\"#fb9f3a\"],[0.8888888888888888,\"#fdca26\"],[1.0,\"#f0f921\"]]}],\"mesh3d\":[{\"type\":\"mesh3d\",\"colorbar\":{\"outlinewidth\":0,\"ticks\":\"\"}}],\"scatter\":[{\"fillpattern\":{\"fillmode\":\"overlay\",\"size\":10,\"solidity\":0.2},\"type\":\"scatter\"}],\"parcoords\":[{\"type\":\"parcoords\",\"line\":{\"colorbar\":{\"outlinewidth\":0,\"ticks\":\"\"}}}],\"scatterpolargl\":[{\"type\":\"scatterpolargl\",\"marker\":{\"colorbar\":{\"outlinewidth\":0,\"ticks\":\"\"}}}],\"bar\":[{\"error_x\":{\"color\":\"#2a3f5f\"},\"error_y\":{\"color\":\"#2a3f5f\"},\"marker\":{\"line\":{\"color\":\"#E5ECF6\",\"width\":0.5},\"pattern\":{\"fillmode\":\"overlay\",\"size\":10,\"solidity\":0.2}},\"type\":\"bar\"}],\"scattergeo\":[{\"type\":\"scattergeo\",\"marker\":{\"colorbar\":{\"outlinewidth\":0,\"ticks\":\"\"}}}],\"scatterpolar\":[{\"type\":\"scatterpolar\",\"marker\":{\"colorbar\":{\"outlinewidth\":0,\"ticks\":\"\"}}}],\"histogram\":[{\"marker\":{\"pattern\":{\"fillmode\":\"overlay\",\"size\":10,\"solidity\":0.2}},\"type\":\"histogram\"}],\"scattergl\":[{\"type\":\"scattergl\",\"marker\":{\"colorbar\":{\"outlinewidth\":0,\"ticks\":\"\"}}}],\"scatter3d\":[{\"type\":\"scatter3d\",\"line\":{\"colorbar\":{\"outlinewidth\":0,\"ticks\":\"\"}},\"marker\":{\"colorbar\":{\"outlinewidth\":0,\"ticks\":\"\"}}}],\"scattermapbox\":[{\"type\":\"scattermapbox\",\"marker\":{\"colorbar\":{\"outlinewidth\":0,\"ticks\":\"\"}}}],\"scatterternary\":[{\"type\":\"scatterternary\",\"marker\":{\"colorbar\":{\"outlinewidth\":0,\"ticks\":\"\"}}}],\"scattercarpet\":[{\"type\":\"scattercarpet\",\"marker\":{\"colorbar\":{\"outlinewidth\":0,\"ticks\":\"\"}}}],\"carpet\":[{\"aaxis\":{\"endlinecolor\":\"#2a3f5f\",\"gridcolor\":\"white\",\"linecolor\":\"white\",\"minorgridcolor\":\"white\",\"startlinecolor\":\"#2a3f5f\"},\"baxis\":{\"endlinecolor\":\"#2a3f5f\",\"gridcolor\":\"white\",\"linecolor\":\"white\",\"minorgridcolor\":\"white\",\"startlinecolor\":\"#2a3f5f\"},\"type\":\"carpet\"}],\"table\":[{\"cells\":{\"fill\":{\"color\":\"#EBF0F8\"},\"line\":{\"color\":\"white\"}},\"header\":{\"fill\":{\"color\":\"#C8D4E3\"},\"line\":{\"color\":\"white\"}},\"type\":\"table\"}],\"barpolar\":[{\"marker\":{\"line\":{\"color\":\"#E5ECF6\",\"width\":0.5},\"pattern\":{\"fillmode\":\"overlay\",\"size\":10,\"solidity\":0.2}},\"type\":\"barpolar\"}],\"pie\":[{\"automargin\":true,\"type\":\"pie\"}]},\"layout\":{\"autotypenumbers\":\"strict\",\"colorway\":[\"#636efa\",\"#EF553B\",\"#00cc96\",\"#ab63fa\",\"#FFA15A\",\"#19d3f3\",\"#FF6692\",\"#B6E880\",\"#FF97FF\",\"#FECB52\"],\"font\":{\"color\":\"#2a3f5f\"},\"hovermode\":\"closest\",\"hoverlabel\":{\"align\":\"left\"},\"paper_bgcolor\":\"white\",\"plot_bgcolor\":\"#E5ECF6\",\"polar\":{\"bgcolor\":\"#E5ECF6\",\"angularaxis\":{\"gridcolor\":\"white\",\"linecolor\":\"white\",\"ticks\":\"\"},\"radialaxis\":{\"gridcolor\":\"white\",\"linecolor\":\"white\",\"ticks\":\"\"}},\"ternary\":{\"bgcolor\":\"#E5ECF6\",\"aaxis\":{\"gridcolor\":\"white\",\"linecolor\":\"white\",\"ticks\":\"\"},\"baxis\":{\"gridcolor\":\"white\",\"linecolor\":\"white\",\"ticks\":\"\"},\"caxis\":{\"gridcolor\":\"white\",\"linecolor\":\"white\",\"ticks\":\"\"}},\"coloraxis\":{\"colorbar\":{\"outlinewidth\":0,\"ticks\":\"\"}},\"colorscale\":{\"sequential\":[[0.0,\"#0d0887\"],[0.1111111111111111,\"#46039f\"],[0.2222222222222222,\"#7201a8\"],[0.3333333333333333,\"#9c179e\"],[0.4444444444444444,\"#bd3786\"],[0.5555555555555556,\"#d8576b\"],[0.6666666666666666,\"#ed7953\"],[0.7777777777777778,\"#fb9f3a\"],[0.8888888888888888,\"#fdca26\"],[1.0,\"#f0f921\"]],\"sequentialminus\":[[0.0,\"#0d0887\"],[0.1111111111111111,\"#46039f\"],[0.2222222222222222,\"#7201a8\"],[0.3333333333333333,\"#9c179e\"],[0.4444444444444444,\"#bd3786\"],[0.5555555555555556,\"#d8576b\"],[0.6666666666666666,\"#ed7953\"],[0.7777777777777778,\"#fb9f3a\"],[0.8888888888888888,\"#fdca26\"],[1.0,\"#f0f921\"]],\"diverging\":[[0,\"#8e0152\"],[0.1,\"#c51b7d\"],[0.2,\"#de77ae\"],[0.3,\"#f1b6da\"],[0.4,\"#fde0ef\"],[0.5,\"#f7f7f7\"],[0.6,\"#e6f5d0\"],[0.7,\"#b8e186\"],[0.8,\"#7fbc41\"],[0.9,\"#4d9221\"],[1,\"#276419\"]]},\"xaxis\":{\"gridcolor\":\"white\",\"linecolor\":\"white\",\"ticks\":\"\",\"title\":{\"standoff\":15},\"zerolinecolor\":\"white\",\"automargin\":true,\"zerolinewidth\":2},\"yaxis\":{\"gridcolor\":\"white\",\"linecolor\":\"white\",\"ticks\":\"\",\"title\":{\"standoff\":15},\"zerolinecolor\":\"white\",\"automargin\":true,\"zerolinewidth\":2},\"scene\":{\"xaxis\":{\"backgroundcolor\":\"#E5ECF6\",\"gridcolor\":\"white\",\"linecolor\":\"white\",\"showbackground\":true,\"ticks\":\"\",\"zerolinecolor\":\"white\",\"gridwidth\":2},\"yaxis\":{\"backgroundcolor\":\"#E5ECF6\",\"gridcolor\":\"white\",\"linecolor\":\"white\",\"showbackground\":true,\"ticks\":\"\",\"zerolinecolor\":\"white\",\"gridwidth\":2},\"zaxis\":{\"backgroundcolor\":\"#E5ECF6\",\"gridcolor\":\"white\",\"linecolor\":\"white\",\"showbackground\":true,\"ticks\":\"\",\"zerolinecolor\":\"white\",\"gridwidth\":2}},\"shapedefaults\":{\"line\":{\"color\":\"#2a3f5f\"}},\"annotationdefaults\":{\"arrowcolor\":\"#2a3f5f\",\"arrowhead\":0,\"arrowwidth\":1},\"geo\":{\"bgcolor\":\"white\",\"landcolor\":\"#E5ECF6\",\"subunitcolor\":\"white\",\"showland\":true,\"showlakes\":true,\"lakecolor\":\"white\"},\"title\":{\"x\":0.05},\"mapbox\":{\"style\":\"light\"}}}},                        {\"responsive\": true}                    ).then(function(){\n",
              "                            \n",
              "var gd = document.getElementById('34a8c821-6ed6-4281-83ab-1d98acac1b3f');\n",
              "var x = new MutationObserver(function (mutations, observer) {{\n",
              "        var display = window.getComputedStyle(gd).display;\n",
              "        if (!display || display === 'none') {{\n",
              "            console.log([gd, 'removed!']);\n",
              "            Plotly.purge(gd);\n",
              "            observer.disconnect();\n",
              "        }}\n",
              "}});\n",
              "\n",
              "// Listen for the removal of the full notebook cells\n",
              "var notebookContainer = gd.closest('#notebook-container');\n",
              "if (notebookContainer) {{\n",
              "    x.observe(notebookContainer, {childList: true});\n",
              "}}\n",
              "\n",
              "// Listen for the clearing of the current output cell\n",
              "var outputEl = gd.closest('.output');\n",
              "if (outputEl) {{\n",
              "    x.observe(outputEl, {childList: true});\n",
              "}}\n",
              "\n",
              "                        })                };                            </script>        </div>\n",
              "</body>\n",
              "</html>"
            ]
          },
          "metadata": {}
        }
      ]
    },
    {
      "cell_type": "markdown",
      "source": [
        "De este grafico se observa que las tendencias de entrenamiento se hayan bastante concentradas en hiperparametros como objective_value, learning_rate, min_frequency y reg_alpha. Es decir los optimos se encontraron mucho mas rapido respecto a estos parametros. Por otro lado hiperparametros como profundidad max_depth, max_leaves, y min_child_weight no tuvieron una mayor tendencia en cuanto se tratara de obtener los  mejores valores.\n",
        "\n",
        "Lo anterior se evidencia por las concentraciones mucho mas altas de lineas y colores mas oscuros en los parametros descrito con mayor tendencia, que en los parametros que no tenian una mayor tendencia, los cuales tenian lineas claras bastante distribuidas entre sus valores posibles."
      ],
      "metadata": {
        "id": "7z4XBiLCuIvV"
      }
    },
    {
      "cell_type": "code",
      "source": [
        "plot_param_importances(study)"
      ],
      "metadata": {
        "colab": {
          "base_uri": "https://localhost:8080/",
          "height": 542
        },
        "id": "D0OcR1hQGUJR",
        "outputId": "e3aec7c7-1d34-4960-f381-bbb9b4596b09"
      },
      "execution_count": null,
      "outputs": [
        {
          "output_type": "display_data",
          "data": {
            "text/html": [
              "<html>\n",
              "<head><meta charset=\"utf-8\" /></head>\n",
              "<body>\n",
              "    <div>            <script src=\"https://cdnjs.cloudflare.com/ajax/libs/mathjax/2.7.5/MathJax.js?config=TeX-AMS-MML_SVG\"></script><script type=\"text/javascript\">if (window.MathJax && window.MathJax.Hub && window.MathJax.Hub.Config) {window.MathJax.Hub.Config({SVG: {font: \"STIX-Web\"}});}</script>                <script type=\"text/javascript\">window.PlotlyConfig = {MathJaxConfig: 'local'};</script>\n",
              "        <script charset=\"utf-8\" src=\"https://cdn.plot.ly/plotly-2.24.1.min.js\"></script>                <div id=\"15351f87-5551-4251-a1ae-637484985055\" class=\"plotly-graph-div\" style=\"height:525px; width:100%;\"></div>            <script type=\"text/javascript\">                                    window.PLOTLYENV=window.PLOTLYENV || {};                                    if (document.getElementById(\"15351f87-5551-4251-a1ae-637484985055\")) {                    Plotly.newPlot(                        \"15351f87-5551-4251-a1ae-637484985055\",                        [{\"cliponaxis\":false,\"hovertemplate\":[\"min_child_weight (IntDistribution): 0.00244054753619936\\u003cextra\\u003e\\u003c\\u002fextra\\u003e\",\"learning_rate (FloatDistribution): 0.0034802627203374026\\u003cextra\\u003e\\u003c\\u002fextra\\u003e\",\"max_depth (IntDistribution): 0.004043105138220842\\u003cextra\\u003e\\u003c\\u002fextra\\u003e\",\"n_estimators (IntDistribution): 0.010661359589613265\\u003cextra\\u003e\\u003c\\u002fextra\\u003e\",\"reg_lambda (FloatDistribution): 0.041740343452084196\\u003cextra\\u003e\\u003c\\u002fextra\\u003e\",\"reg_alpha (FloatDistribution): 0.044614250891758994\\u003cextra\\u003e\\u003c\\u002fextra\\u003e\",\"max_leaves (IntDistribution): 0.10493655105642696\\u003cextra\\u003e\\u003c\\u002fextra\\u003e\",\"min_frequency (FloatDistribution): 0.788083579615359\\u003cextra\\u003e\\u003c\\u002fextra\\u003e\"],\"name\":\"Objective Value\",\"orientation\":\"h\",\"text\":[\"\\u003c0.01\",\"\\u003c0.01\",\"\\u003c0.01\",\"0.01\",\"0.04\",\"0.04\",\"0.10\",\"0.79\"],\"textposition\":\"outside\",\"x\":[0.00244054753619936,0.0034802627203374026,0.004043105138220842,0.010661359589613265,0.041740343452084196,0.044614250891758994,0.10493655105642696,0.788083579615359],\"y\":[\"min_child_weight\",\"learning_rate\",\"max_depth\",\"n_estimators\",\"reg_lambda\",\"reg_alpha\",\"max_leaves\",\"min_frequency\"],\"type\":\"bar\"}],                        {\"title\":{\"text\":\"Hyperparameter Importances\"},\"xaxis\":{\"title\":{\"text\":\"Hyperparameter Importance\"}},\"yaxis\":{\"title\":{\"text\":\"Hyperparameter\"}},\"template\":{\"data\":{\"histogram2dcontour\":[{\"type\":\"histogram2dcontour\",\"colorbar\":{\"outlinewidth\":0,\"ticks\":\"\"},\"colorscale\":[[0.0,\"#0d0887\"],[0.1111111111111111,\"#46039f\"],[0.2222222222222222,\"#7201a8\"],[0.3333333333333333,\"#9c179e\"],[0.4444444444444444,\"#bd3786\"],[0.5555555555555556,\"#d8576b\"],[0.6666666666666666,\"#ed7953\"],[0.7777777777777778,\"#fb9f3a\"],[0.8888888888888888,\"#fdca26\"],[1.0,\"#f0f921\"]]}],\"choropleth\":[{\"type\":\"choropleth\",\"colorbar\":{\"outlinewidth\":0,\"ticks\":\"\"}}],\"histogram2d\":[{\"type\":\"histogram2d\",\"colorbar\":{\"outlinewidth\":0,\"ticks\":\"\"},\"colorscale\":[[0.0,\"#0d0887\"],[0.1111111111111111,\"#46039f\"],[0.2222222222222222,\"#7201a8\"],[0.3333333333333333,\"#9c179e\"],[0.4444444444444444,\"#bd3786\"],[0.5555555555555556,\"#d8576b\"],[0.6666666666666666,\"#ed7953\"],[0.7777777777777778,\"#fb9f3a\"],[0.8888888888888888,\"#fdca26\"],[1.0,\"#f0f921\"]]}],\"heatmap\":[{\"type\":\"heatmap\",\"colorbar\":{\"outlinewidth\":0,\"ticks\":\"\"},\"colorscale\":[[0.0,\"#0d0887\"],[0.1111111111111111,\"#46039f\"],[0.2222222222222222,\"#7201a8\"],[0.3333333333333333,\"#9c179e\"],[0.4444444444444444,\"#bd3786\"],[0.5555555555555556,\"#d8576b\"],[0.6666666666666666,\"#ed7953\"],[0.7777777777777778,\"#fb9f3a\"],[0.8888888888888888,\"#fdca26\"],[1.0,\"#f0f921\"]]}],\"heatmapgl\":[{\"type\":\"heatmapgl\",\"colorbar\":{\"outlinewidth\":0,\"ticks\":\"\"},\"colorscale\":[[0.0,\"#0d0887\"],[0.1111111111111111,\"#46039f\"],[0.2222222222222222,\"#7201a8\"],[0.3333333333333333,\"#9c179e\"],[0.4444444444444444,\"#bd3786\"],[0.5555555555555556,\"#d8576b\"],[0.6666666666666666,\"#ed7953\"],[0.7777777777777778,\"#fb9f3a\"],[0.8888888888888888,\"#fdca26\"],[1.0,\"#f0f921\"]]}],\"contourcarpet\":[{\"type\":\"contourcarpet\",\"colorbar\":{\"outlinewidth\":0,\"ticks\":\"\"}}],\"contour\":[{\"type\":\"contour\",\"colorbar\":{\"outlinewidth\":0,\"ticks\":\"\"},\"colorscale\":[[0.0,\"#0d0887\"],[0.1111111111111111,\"#46039f\"],[0.2222222222222222,\"#7201a8\"],[0.3333333333333333,\"#9c179e\"],[0.4444444444444444,\"#bd3786\"],[0.5555555555555556,\"#d8576b\"],[0.6666666666666666,\"#ed7953\"],[0.7777777777777778,\"#fb9f3a\"],[0.8888888888888888,\"#fdca26\"],[1.0,\"#f0f921\"]]}],\"surface\":[{\"type\":\"surface\",\"colorbar\":{\"outlinewidth\":0,\"ticks\":\"\"},\"colorscale\":[[0.0,\"#0d0887\"],[0.1111111111111111,\"#46039f\"],[0.2222222222222222,\"#7201a8\"],[0.3333333333333333,\"#9c179e\"],[0.4444444444444444,\"#bd3786\"],[0.5555555555555556,\"#d8576b\"],[0.6666666666666666,\"#ed7953\"],[0.7777777777777778,\"#fb9f3a\"],[0.8888888888888888,\"#fdca26\"],[1.0,\"#f0f921\"]]}],\"mesh3d\":[{\"type\":\"mesh3d\",\"colorbar\":{\"outlinewidth\":0,\"ticks\":\"\"}}],\"scatter\":[{\"fillpattern\":{\"fillmode\":\"overlay\",\"size\":10,\"solidity\":0.2},\"type\":\"scatter\"}],\"parcoords\":[{\"type\":\"parcoords\",\"line\":{\"colorbar\":{\"outlinewidth\":0,\"ticks\":\"\"}}}],\"scatterpolargl\":[{\"type\":\"scatterpolargl\",\"marker\":{\"colorbar\":{\"outlinewidth\":0,\"ticks\":\"\"}}}],\"bar\":[{\"error_x\":{\"color\":\"#2a3f5f\"},\"error_y\":{\"color\":\"#2a3f5f\"},\"marker\":{\"line\":{\"color\":\"#E5ECF6\",\"width\":0.5},\"pattern\":{\"fillmode\":\"overlay\",\"size\":10,\"solidity\":0.2}},\"type\":\"bar\"}],\"scattergeo\":[{\"type\":\"scattergeo\",\"marker\":{\"colorbar\":{\"outlinewidth\":0,\"ticks\":\"\"}}}],\"scatterpolar\":[{\"type\":\"scatterpolar\",\"marker\":{\"colorbar\":{\"outlinewidth\":0,\"ticks\":\"\"}}}],\"histogram\":[{\"marker\":{\"pattern\":{\"fillmode\":\"overlay\",\"size\":10,\"solidity\":0.2}},\"type\":\"histogram\"}],\"scattergl\":[{\"type\":\"scattergl\",\"marker\":{\"colorbar\":{\"outlinewidth\":0,\"ticks\":\"\"}}}],\"scatter3d\":[{\"type\":\"scatter3d\",\"line\":{\"colorbar\":{\"outlinewidth\":0,\"ticks\":\"\"}},\"marker\":{\"colorbar\":{\"outlinewidth\":0,\"ticks\":\"\"}}}],\"scattermapbox\":[{\"type\":\"scattermapbox\",\"marker\":{\"colorbar\":{\"outlinewidth\":0,\"ticks\":\"\"}}}],\"scatterternary\":[{\"type\":\"scatterternary\",\"marker\":{\"colorbar\":{\"outlinewidth\":0,\"ticks\":\"\"}}}],\"scattercarpet\":[{\"type\":\"scattercarpet\",\"marker\":{\"colorbar\":{\"outlinewidth\":0,\"ticks\":\"\"}}}],\"carpet\":[{\"aaxis\":{\"endlinecolor\":\"#2a3f5f\",\"gridcolor\":\"white\",\"linecolor\":\"white\",\"minorgridcolor\":\"white\",\"startlinecolor\":\"#2a3f5f\"},\"baxis\":{\"endlinecolor\":\"#2a3f5f\",\"gridcolor\":\"white\",\"linecolor\":\"white\",\"minorgridcolor\":\"white\",\"startlinecolor\":\"#2a3f5f\"},\"type\":\"carpet\"}],\"table\":[{\"cells\":{\"fill\":{\"color\":\"#EBF0F8\"},\"line\":{\"color\":\"white\"}},\"header\":{\"fill\":{\"color\":\"#C8D4E3\"},\"line\":{\"color\":\"white\"}},\"type\":\"table\"}],\"barpolar\":[{\"marker\":{\"line\":{\"color\":\"#E5ECF6\",\"width\":0.5},\"pattern\":{\"fillmode\":\"overlay\",\"size\":10,\"solidity\":0.2}},\"type\":\"barpolar\"}],\"pie\":[{\"automargin\":true,\"type\":\"pie\"}]},\"layout\":{\"autotypenumbers\":\"strict\",\"colorway\":[\"#636efa\",\"#EF553B\",\"#00cc96\",\"#ab63fa\",\"#FFA15A\",\"#19d3f3\",\"#FF6692\",\"#B6E880\",\"#FF97FF\",\"#FECB52\"],\"font\":{\"color\":\"#2a3f5f\"},\"hovermode\":\"closest\",\"hoverlabel\":{\"align\":\"left\"},\"paper_bgcolor\":\"white\",\"plot_bgcolor\":\"#E5ECF6\",\"polar\":{\"bgcolor\":\"#E5ECF6\",\"angularaxis\":{\"gridcolor\":\"white\",\"linecolor\":\"white\",\"ticks\":\"\"},\"radialaxis\":{\"gridcolor\":\"white\",\"linecolor\":\"white\",\"ticks\":\"\"}},\"ternary\":{\"bgcolor\":\"#E5ECF6\",\"aaxis\":{\"gridcolor\":\"white\",\"linecolor\":\"white\",\"ticks\":\"\"},\"baxis\":{\"gridcolor\":\"white\",\"linecolor\":\"white\",\"ticks\":\"\"},\"caxis\":{\"gridcolor\":\"white\",\"linecolor\":\"white\",\"ticks\":\"\"}},\"coloraxis\":{\"colorbar\":{\"outlinewidth\":0,\"ticks\":\"\"}},\"colorscale\":{\"sequential\":[[0.0,\"#0d0887\"],[0.1111111111111111,\"#46039f\"],[0.2222222222222222,\"#7201a8\"],[0.3333333333333333,\"#9c179e\"],[0.4444444444444444,\"#bd3786\"],[0.5555555555555556,\"#d8576b\"],[0.6666666666666666,\"#ed7953\"],[0.7777777777777778,\"#fb9f3a\"],[0.8888888888888888,\"#fdca26\"],[1.0,\"#f0f921\"]],\"sequentialminus\":[[0.0,\"#0d0887\"],[0.1111111111111111,\"#46039f\"],[0.2222222222222222,\"#7201a8\"],[0.3333333333333333,\"#9c179e\"],[0.4444444444444444,\"#bd3786\"],[0.5555555555555556,\"#d8576b\"],[0.6666666666666666,\"#ed7953\"],[0.7777777777777778,\"#fb9f3a\"],[0.8888888888888888,\"#fdca26\"],[1.0,\"#f0f921\"]],\"diverging\":[[0,\"#8e0152\"],[0.1,\"#c51b7d\"],[0.2,\"#de77ae\"],[0.3,\"#f1b6da\"],[0.4,\"#fde0ef\"],[0.5,\"#f7f7f7\"],[0.6,\"#e6f5d0\"],[0.7,\"#b8e186\"],[0.8,\"#7fbc41\"],[0.9,\"#4d9221\"],[1,\"#276419\"]]},\"xaxis\":{\"gridcolor\":\"white\",\"linecolor\":\"white\",\"ticks\":\"\",\"title\":{\"standoff\":15},\"zerolinecolor\":\"white\",\"automargin\":true,\"zerolinewidth\":2},\"yaxis\":{\"gridcolor\":\"white\",\"linecolor\":\"white\",\"ticks\":\"\",\"title\":{\"standoff\":15},\"zerolinecolor\":\"white\",\"automargin\":true,\"zerolinewidth\":2},\"scene\":{\"xaxis\":{\"backgroundcolor\":\"#E5ECF6\",\"gridcolor\":\"white\",\"linecolor\":\"white\",\"showbackground\":true,\"ticks\":\"\",\"zerolinecolor\":\"white\",\"gridwidth\":2},\"yaxis\":{\"backgroundcolor\":\"#E5ECF6\",\"gridcolor\":\"white\",\"linecolor\":\"white\",\"showbackground\":true,\"ticks\":\"\",\"zerolinecolor\":\"white\",\"gridwidth\":2},\"zaxis\":{\"backgroundcolor\":\"#E5ECF6\",\"gridcolor\":\"white\",\"linecolor\":\"white\",\"showbackground\":true,\"ticks\":\"\",\"zerolinecolor\":\"white\",\"gridwidth\":2}},\"shapedefaults\":{\"line\":{\"color\":\"#2a3f5f\"}},\"annotationdefaults\":{\"arrowcolor\":\"#2a3f5f\",\"arrowhead\":0,\"arrowwidth\":1},\"geo\":{\"bgcolor\":\"white\",\"landcolor\":\"#E5ECF6\",\"subunitcolor\":\"white\",\"showland\":true,\"showlakes\":true,\"lakecolor\":\"white\"},\"title\":{\"x\":0.05},\"mapbox\":{\"style\":\"light\"}}}},                        {\"responsive\": true}                    ).then(function(){\n",
              "                            \n",
              "var gd = document.getElementById('15351f87-5551-4251-a1ae-637484985055');\n",
              "var x = new MutationObserver(function (mutations, observer) {{\n",
              "        var display = window.getComputedStyle(gd).display;\n",
              "        if (!display || display === 'none') {{\n",
              "            console.log([gd, 'removed!']);\n",
              "            Plotly.purge(gd);\n",
              "            observer.disconnect();\n",
              "        }}\n",
              "}});\n",
              "\n",
              "// Listen for the removal of the full notebook cells\n",
              "var notebookContainer = gd.closest('#notebook-container');\n",
              "if (notebookContainer) {{\n",
              "    x.observe(notebookContainer, {childList: true});\n",
              "}}\n",
              "\n",
              "// Listen for the clearing of the current output cell\n",
              "var outputEl = gd.closest('.output');\n",
              "if (outputEl) {{\n",
              "    x.observe(outputEl, {childList: true});\n",
              "}}\n",
              "\n",
              "                        })                };                            </script>        </div>\n",
              "</body>\n",
              "</html>"
            ]
          },
          "metadata": {}
        }
      ]
    },
    {
      "cell_type": "markdown",
      "source": [
        "Lo anterior queda mucho mas claro al analizar este grafico de importancia de hiperparametros, donde es notable el gran impacto que tiene el parametro de min_frequency, el cual esta relacionado con el encoder de las variables categoricas. Por otro lado tambien se puede ver que max_leaves tiene una importancia bastante alta, lo cual no era muy visible en el grafico anterior, esto esta principalmente relacionado a la forma de visualizar la data, en donde parametros con valores enteros son mucho mas dificiles de evaluar que parametros con valores continuos en graficos de coordenadas paralelas.\n",
        "\n",
        "De todas formas ambos graficos son complementarios en el entendimiento de la optimizacion de estos hiperparametros ya que permiten entender que variables tuvieron mayor variabilidad, mientras que permite visualizar que valores de estas variables obtuvieron los mejores resultados de forma evolutiva.\n",
        "\n"
      ],
      "metadata": {
        "id": "heGD1y24vibR"
      }
    },
    {
      "cell_type": "markdown",
      "metadata": {
        "cell_id": "ac8a20f445d045a3becf1a518d410a7d",
        "deepnote_cell_type": "markdown",
        "id": "BpT2aINBCxPa"
      },
      "source": [
        "## 1.6 Síntesis de resultados (0.3)\n",
        "\n",
        "Finalmente, genere una tabla resumen del MAE obtenido en los 5 modelos entrenados (desde Baseline hasta XGBoost con Constraints, Optuna y Prunning) y compare sus resultados. ¿Qué modelo obtiene el mejor rendimiento?\n",
        "\n",
        "Por último, cargue el mejor modelo, prediga sobre el conjunto de test y reporte su MAE. ¿Existen diferencias con respecto a las métricas obtenidas en el conjunto de validación? ¿Porqué puede ocurrir esto?"
      ]
    },
    {
      "cell_type": "markdown",
      "source": [
        "| Model                     | Mean Absolute Error (MAE) |\n",
        "|---------------------------|---------------------------|\n",
        "| DummyRegressor            | 13308.134750658153        |\n",
        "| XGBRegressor              | 2426.128624135566         |\n",
        "| XGBRegressor              | 2327.1220129443423        |\n",
        "| XGBRegressor optimized    | 2278.832142538854         |\n",
        "| XGBRegressor pruned       | 2278.832142538854         |\n"
      ],
      "metadata": {
        "id": "6i_Wr_l8yUB2"
      }
    },
    {
      "cell_type": "markdown",
      "source": [
        "De esta tabla se observa que se obtuvieron resultados parecidos en optimized y pruned, pero como descrito anteriormente pruned entrega resultados mucho mas consistentes, por lo cual se escoge este modelo para la predicción final."
      ],
      "metadata": {
        "id": "Miwox21ByX0m"
      }
    },
    {
      "cell_type": "code",
      "source": [
        "#Predecimos sobre los datos de test\n",
        "preprocessor = ColumnTransformer(\n",
        "    transformers=[\n",
        "        ('num', StandardScaler(), numeric_features),\n",
        "        ('cat', OneHotEncoder(min_frequency=best_params['min_frequency']), categorical_features)\n",
        "    ])\n",
        "\n",
        "\n",
        "best_param= {'learning_rate': 0.08637102405687036, 'n_estimators': 918, 'max_depth': 7, 'max_leaves': 68, 'min_child_weight': 4, 'reg_alpha': 0.4216902629736669, 'reg_lambda': 0.294200952269262}\n",
        "pipeline_xgb_pruning= Pipeline([\n",
        "('date_transform', date_transformer),\n",
        "('preprocessor', preprocessor),\n",
        "('regressor', XGBRegressor(**best_params))\n",
        "])\n",
        "#Entrenamos el pipeline con los datos de train\n",
        "\n",
        "\n",
        "\n",
        "pipeline_xgb_pruning.fit(X_train, y_train)\n",
        "\n",
        "\n",
        "test_predictions_xgb_best_pruning = pipeline_xgb_pruning.predict(X_test)\n",
        "\n",
        "#Obtenemos el valor del MAE\n",
        "mae_xgb_best_pruning = mean_absolute_error(y_test, test_predictions_xgb_best_pruning)\n",
        "\n",
        "#Imprimimos resultados relevantes\n",
        "print(f'MAE con XGBoost y los mejores hiperparámetros (prunning): {mae_xgb_best_pruning}')\n",
        "#Guardamos el regresor XGBoost con los mejores hiperparámetros y pruning\n",
        "joblib.dump(best_trial, 'mejor_trial_optimizado_pruning.pkl')"
      ],
      "metadata": {
        "colab": {
          "base_uri": "https://localhost:8080/"
        },
        "id": "JZprOPnYGcfV",
        "outputId": "b0c8b6e2-1b8e-49c2-deb2-9e75beb4f069"
      },
      "execution_count": null,
      "outputs": [
        {
          "output_type": "stream",
          "name": "stderr",
          "text": [
            "/usr/local/lib/python3.10/dist-packages/xgboost/core.py:160: UserWarning:\n",
            "\n",
            "[02:40:40] WARNING: /workspace/src/learner.cc:742: \n",
            "Parameters: { \"min_frequency\" } are not used.\n",
            "\n",
            "\n"
          ]
        },
        {
          "output_type": "stream",
          "name": "stdout",
          "text": [
            "MAE con XGBoost y los mejores hiperparámetros (prunning): 1979.4862108449975\n"
          ]
        },
        {
          "output_type": "execute_result",
          "data": {
            "text/plain": [
              "['mejor_trial_optimizado_pruning.pkl']"
            ]
          },
          "metadata": {},
          "execution_count": 338
        }
      ]
    },
    {
      "cell_type": "markdown",
      "source": [
        "De lo anterior se observa una clara diferencia entre lo obtenido con las metricas de validación, en donde los resultados mejoran considerablemente llegando a un MAE de 1979. Esto tiene sentido ya que muchas veces los conjuntos de validacion pueden tener sezgos autocontenidos en estos conjuntos por lo cual es posible que al probar el modelo en la data de validación entregue resultados que superaban lo anterior debido a que contien datos mas consistentes. Claro que esto es un tema de chance y depende de las distintas seeds escogidas para el traisplit realizado.\n",
        "\n",
        "\n",
        "Esto tambien puede estar relacionado al tamaño del conjunto de datos o un ajuste a los datos de validación que no resultos ser bueno en esta data simplemente por la variabilidad intrinseca de los conjuntos de datos obtenidos al realizar una separacion de entrenamiento."
      ],
      "metadata": {
        "id": "8lDRMXyLyozH"
      }
    },
    {
      "cell_type": "markdown",
      "metadata": {
        "cell_id": "5c4654d12037494fbd385b4dc6bd1059",
        "deepnote_cell_type": "markdown",
        "id": "tIO_K2ghCxPa"
      },
      "source": [
        "# Conclusión\n",
        "Eso ha sido todo para el lab de hoy, recuerden que el laboratorio tiene un plazo de entrega de una semana. Cualquier duda del laboratorio, no duden en contactarnos por mail o U-cursos.\n",
        "\n",
        "<p align=\"center\">\n",
        "  <img src=\"https://media.tenor.com/8CT1AXElF_cAAAAC/gojo-satoru.gif\">\n",
        "</p>"
      ]
    },
    {
      "cell_type": "markdown",
      "metadata": {
        "cell_id": "5025de06759f4903a26916c80323bf25",
        "deepnote_cell_type": "markdown",
        "id": "MJds2sIYCxPa"
      },
      "source": []
    },
    {
      "cell_type": "markdown",
      "source": [
        "<a style='text-decoration:none;line-height:16px;display:flex;color:#5B5B62;padding:10px;justify-content:end;' href='https://deepnote.com?utm_source=created-in-deepnote-cell&projectId=87110296-876e-426f-b91d-aaf681223468' target=\"_blank\">\n",
        "<img alt='Created in deepnote.com' style='display:inline;max-height:16px;margin:0px;margin-right:7.5px;' src='data:image/svg+xml;base64,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' > </img>\n",
        "Created in <span style='font-weight:600;margin-left:4px;'>Deepnote</span></a>"
      ],
      "metadata": {
        "created_in_deepnote_cell": true,
        "deepnote_cell_type": "markdown",
        "id": "evXczS6XCxPb"
      }
    }
  ],
  "nbformat": 4,
  "nbformat_minor": 0,
  "metadata": {
    "deepnote": {},
    "kernelspec": {
      "name": "python3",
      "language": "python",
      "display_name": "base"
    },
    "language_info": {
      "name": "python",
      "version": "3.10.9",
      "mimetype": "text/x-python",
      "file_extension": ".py",
      "pygments_lexer": "ipython3",
      "codemirror_mode": {
        "name": "ipython",
        "version": 3
      },
      "nbconvert_exporter": "python"
    },
    "deepnote_notebook_id": "f63d38450a6b464c9bb6385cf11db4d9",
    "deepnote_persisted_session": {
      "createdAt": "2023-11-09T16:18:30.203Z"
    },
    "deepnote_execution_queue": [],
    "colab": {
      "provenance": []
    },
    "widgets": {
      "application/vnd.jupyter.widget-state+json": {
        "93c143e69d144e74a3dfe08a52ec8fef": {
          "model_module": "@jupyter-widgets/controls",
          "model_name": "HBoxModel",
          "model_module_version": "1.5.0",
          "state": {
            "_dom_classes": [],
            "_model_module": "@jupyter-widgets/controls",
            "_model_module_version": "1.5.0",
            "_model_name": "HBoxModel",
            "_view_count": null,
            "_view_module": "@jupyter-widgets/controls",
            "_view_module_version": "1.5.0",
            "_view_name": "HBoxView",
            "box_style": "",
            "children": [
              "IPY_MODEL_549ff5fc1b074ba8b88aae200333c28e",
              "IPY_MODEL_0f73778161f64f7f98c0205190030995",
              "IPY_MODEL_eb042861b700466dae591bafeba120df"
            ],
            "layout": "IPY_MODEL_79a5439d313849df805d81635174805e"
          }
        },
        "549ff5fc1b074ba8b88aae200333c28e": {
          "model_module": "@jupyter-widgets/controls",
          "model_name": "HTMLModel",
          "model_module_version": "1.5.0",
          "state": {
            "_dom_classes": [],
            "_model_module": "@jupyter-widgets/controls",
            "_model_module_version": "1.5.0",
            "_model_name": "HTMLModel",
            "_view_count": null,
            "_view_module": "@jupyter-widgets/controls",
            "_view_module_version": "1.5.0",
            "_view_name": "HTMLView",
            "description": "",
            "description_tooltip": null,
            "layout": "IPY_MODEL_1d8563e546d84a1aa6799fd475f54eb9",
            "placeholder": "​",
            "style": "IPY_MODEL_837f2d6880ac4075bb08ac92879b41ba",
            "value": "Best trial: 42. Best value: 2278.83:  46%"
          }
        },
        "0f73778161f64f7f98c0205190030995": {
          "model_module": "@jupyter-widgets/controls",
          "model_name": "FloatProgressModel",
          "model_module_version": "1.5.0",
          "state": {
            "_dom_classes": [],
            "_model_module": "@jupyter-widgets/controls",
            "_model_module_version": "1.5.0",
            "_model_name": "FloatProgressModel",
            "_view_count": null,
            "_view_module": "@jupyter-widgets/controls",
            "_view_module_version": "1.5.0",
            "_view_name": "ProgressView",
            "bar_style": "danger",
            "description": "",
            "description_tooltip": null,
            "layout": "IPY_MODEL_28b202447b2a4cab9ae843daf2544e6f",
            "max": 100,
            "min": 0,
            "orientation": "horizontal",
            "style": "IPY_MODEL_931208d0811545f09a6c29e8ecb3e831",
            "value": 46
          }
        },
        "eb042861b700466dae591bafeba120df": {
          "model_module": "@jupyter-widgets/controls",
          "model_name": "HTMLModel",
          "model_module_version": "1.5.0",
          "state": {
            "_dom_classes": [],
            "_model_module": "@jupyter-widgets/controls",
            "_model_module_version": "1.5.0",
            "_model_name": "HTMLModel",
            "_view_count": null,
            "_view_module": "@jupyter-widgets/controls",
            "_view_module_version": "1.5.0",
            "_view_name": "HTMLView",
            "description": "",
            "description_tooltip": null,
            "layout": "IPY_MODEL_5ddcf749812c4755b5cc837688baf9b3",
            "placeholder": "​",
            "style": "IPY_MODEL_3f393acedd8648f8bdcde9e2f40825a5",
            "value": " 46/100 [05:05&lt;11:11, 12.44s/it, 305.12/300 seconds]"
          }
        },
        "79a5439d313849df805d81635174805e": {
          "model_module": "@jupyter-widgets/base",
          "model_name": "LayoutModel",
          "model_module_version": "1.2.0",
          "state": {
            "_model_module": "@jupyter-widgets/base",
            "_model_module_version": "1.2.0",
            "_model_name": "LayoutModel",
            "_view_count": null,
            "_view_module": "@jupyter-widgets/base",
            "_view_module_version": "1.2.0",
            "_view_name": "LayoutView",
            "align_content": null,
            "align_items": null,
            "align_self": null,
            "border": null,
            "bottom": null,
            "display": null,
            "flex": null,
            "flex_flow": null,
            "grid_area": null,
            "grid_auto_columns": null,
            "grid_auto_flow": null,
            "grid_auto_rows": null,
            "grid_column": null,
            "grid_gap": null,
            "grid_row": null,
            "grid_template_areas": null,
            "grid_template_columns": null,
            "grid_template_rows": null,
            "height": null,
            "justify_content": null,
            "justify_items": null,
            "left": null,
            "margin": null,
            "max_height": null,
            "max_width": null,
            "min_height": null,
            "min_width": null,
            "object_fit": null,
            "object_position": null,
            "order": null,
            "overflow": null,
            "overflow_x": null,
            "overflow_y": null,
            "padding": null,
            "right": null,
            "top": null,
            "visibility": null,
            "width": null
          }
        },
        "1d8563e546d84a1aa6799fd475f54eb9": {
          "model_module": "@jupyter-widgets/base",
          "model_name": "LayoutModel",
          "model_module_version": "1.2.0",
          "state": {
            "_model_module": "@jupyter-widgets/base",
            "_model_module_version": "1.2.0",
            "_model_name": "LayoutModel",
            "_view_count": null,
            "_view_module": "@jupyter-widgets/base",
            "_view_module_version": "1.2.0",
            "_view_name": "LayoutView",
            "align_content": null,
            "align_items": null,
            "align_self": null,
            "border": null,
            "bottom": null,
            "display": null,
            "flex": null,
            "flex_flow": null,
            "grid_area": null,
            "grid_auto_columns": null,
            "grid_auto_flow": null,
            "grid_auto_rows": null,
            "grid_column": null,
            "grid_gap": null,
            "grid_row": null,
            "grid_template_areas": null,
            "grid_template_columns": null,
            "grid_template_rows": null,
            "height": null,
            "justify_content": null,
            "justify_items": null,
            "left": null,
            "margin": null,
            "max_height": null,
            "max_width": null,
            "min_height": null,
            "min_width": null,
            "object_fit": null,
            "object_position": null,
            "order": null,
            "overflow": null,
            "overflow_x": null,
            "overflow_y": null,
            "padding": null,
            "right": null,
            "top": null,
            "visibility": null,
            "width": null
          }
        },
        "837f2d6880ac4075bb08ac92879b41ba": {
          "model_module": "@jupyter-widgets/controls",
          "model_name": "DescriptionStyleModel",
          "model_module_version": "1.5.0",
          "state": {
            "_model_module": "@jupyter-widgets/controls",
            "_model_module_version": "1.5.0",
            "_model_name": "DescriptionStyleModel",
            "_view_count": null,
            "_view_module": "@jupyter-widgets/base",
            "_view_module_version": "1.2.0",
            "_view_name": "StyleView",
            "description_width": ""
          }
        },
        "28b202447b2a4cab9ae843daf2544e6f": {
          "model_module": "@jupyter-widgets/base",
          "model_name": "LayoutModel",
          "model_module_version": "1.2.0",
          "state": {
            "_model_module": "@jupyter-widgets/base",
            "_model_module_version": "1.2.0",
            "_model_name": "LayoutModel",
            "_view_count": null,
            "_view_module": "@jupyter-widgets/base",
            "_view_module_version": "1.2.0",
            "_view_name": "LayoutView",
            "align_content": null,
            "align_items": null,
            "align_self": null,
            "border": null,
            "bottom": null,
            "display": null,
            "flex": null,
            "flex_flow": null,
            "grid_area": null,
            "grid_auto_columns": null,
            "grid_auto_flow": null,
            "grid_auto_rows": null,
            "grid_column": null,
            "grid_gap": null,
            "grid_row": null,
            "grid_template_areas": null,
            "grid_template_columns": null,
            "grid_template_rows": null,
            "height": null,
            "justify_content": null,
            "justify_items": null,
            "left": null,
            "margin": null,
            "max_height": null,
            "max_width": null,
            "min_height": null,
            "min_width": null,
            "object_fit": null,
            "object_position": null,
            "order": null,
            "overflow": null,
            "overflow_x": null,
            "overflow_y": null,
            "padding": null,
            "right": null,
            "top": null,
            "visibility": null,
            "width": null
          }
        },
        "931208d0811545f09a6c29e8ecb3e831": {
          "model_module": "@jupyter-widgets/controls",
          "model_name": "ProgressStyleModel",
          "model_module_version": "1.5.0",
          "state": {
            "_model_module": "@jupyter-widgets/controls",
            "_model_module_version": "1.5.0",
            "_model_name": "ProgressStyleModel",
            "_view_count": null,
            "_view_module": "@jupyter-widgets/base",
            "_view_module_version": "1.2.0",
            "_view_name": "StyleView",
            "bar_color": null,
            "description_width": ""
          }
        },
        "5ddcf749812c4755b5cc837688baf9b3": {
          "model_module": "@jupyter-widgets/base",
          "model_name": "LayoutModel",
          "model_module_version": "1.2.0",
          "state": {
            "_model_module": "@jupyter-widgets/base",
            "_model_module_version": "1.2.0",
            "_model_name": "LayoutModel",
            "_view_count": null,
            "_view_module": "@jupyter-widgets/base",
            "_view_module_version": "1.2.0",
            "_view_name": "LayoutView",
            "align_content": null,
            "align_items": null,
            "align_self": null,
            "border": null,
            "bottom": null,
            "display": null,
            "flex": null,
            "flex_flow": null,
            "grid_area": null,
            "grid_auto_columns": null,
            "grid_auto_flow": null,
            "grid_auto_rows": null,
            "grid_column": null,
            "grid_gap": null,
            "grid_row": null,
            "grid_template_areas": null,
            "grid_template_columns": null,
            "grid_template_rows": null,
            "height": null,
            "justify_content": null,
            "justify_items": null,
            "left": null,
            "margin": null,
            "max_height": null,
            "max_width": null,
            "min_height": null,
            "min_width": null,
            "object_fit": null,
            "object_position": null,
            "order": null,
            "overflow": null,
            "overflow_x": null,
            "overflow_y": null,
            "padding": null,
            "right": null,
            "top": null,
            "visibility": null,
            "width": null
          }
        },
        "3f393acedd8648f8bdcde9e2f40825a5": {
          "model_module": "@jupyter-widgets/controls",
          "model_name": "DescriptionStyleModel",
          "model_module_version": "1.5.0",
          "state": {
            "_model_module": "@jupyter-widgets/controls",
            "_model_module_version": "1.5.0",
            "_model_name": "DescriptionStyleModel",
            "_view_count": null,
            "_view_module": "@jupyter-widgets/base",
            "_view_module_version": "1.2.0",
            "_view_name": "StyleView",
            "description_width": ""
          }
        }
      }
    }
  }
}